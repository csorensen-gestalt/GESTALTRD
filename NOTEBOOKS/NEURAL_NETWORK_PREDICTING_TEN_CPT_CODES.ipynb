{
 "cells": [
  {
   "cell_type": "code",
   "execution_count": 117,
   "metadata": {},
   "outputs": [
    {
     "name": "stdout",
     "output_type": "stream",
     "text": [
      "Collecting package metadata (current_repodata.json): ...working... done\n",
      "Solving environment: ...working... done\n",
      "\n",
      "# All requested packages already installed.\n",
      "\n"
     ]
    }
   ],
   "source": [
    "import sys\n",
    "\n",
    "!conda install --yes --prefix {sys.prefix} scikit-learn"
   ]
  },
  {
   "cell_type": "code",
   "execution_count": 1,
   "metadata": {},
   "outputs": [
    {
     "name": "stderr",
     "output_type": "stream",
     "text": [
      "Using TensorFlow backend.\n"
     ]
    }
   ],
   "source": [
    "#all the imports used in the program\n",
    "\n",
    "import pandas as pd \n",
    "import pyodbc\n",
    "import numpy as np\n",
    "import matplotlib.pyplot as plt\n",
    "import nltk \n",
    "from nltk.corpus import stopwords\n",
    "from nltk.stem import WordNetLemmatizer\n",
    "import re\n",
    "from keras.preprocessing.text import Tokenizer\n",
    "from keras.preprocessing.sequence import pad_sequences\n",
    "from keras.models import Sequential\n",
    "from keras.layers import Embedding, Flatten, Dense, Bidirectional, LSTM, GlobalMaxPool1D, Dropout, GRU, Flatten\n",
    "from sklearn.metrics import f1_score\n",
    "from sklearn.preprocessing import OneHotEncoder\n",
    "from sklearn.preprocessing import LabelEncoder\n",
    "from collections import defaultdict\n",
    "import sklearn.metrics as skm"
   ]
  },
  {
   "cell_type": "code",
   "execution_count": 2,
   "metadata": {},
   "outputs": [],
   "source": [
    "#Grab data from a database\n",
    "\n",
    "def getData(Server, Database, query):    \n",
    "    \n",
    "    #create a SQL connection based on the given server and database\n",
    "    sql_conn = pyodbc.connect('DRIVER={SQL Server};'\n",
    "                          'SERVER='+Server+';' \n",
    "                          'DATABASE='+Database+';' \n",
    "                          'Trusted_Connection=yes')\n",
    "    \n",
    "    #return the data from the given Query and SQL connection,\n",
    "    #here i hard coded the index so all queries must select examCode\n",
    "    #for other instances just simply change or remove depending on use\n",
    "    return pd.read_sql(query, sql_conn)"
   ]
  },
  {
   "cell_type": "code",
   "execution_count": 3,
   "metadata": {},
   "outputs": [],
   "source": [
    "#Grab data from a database\n",
    "\n",
    "def getData(Server, UID, PWD, Database, query):    \n",
    "    \n",
    "    #create a SQL connection based on the given server and database\n",
    "    sql_conn = pyodbc.connect('DRIVER={SQL Server};'\n",
    "                              'SERVER='+Server+';' \n",
    "                              'UID='+UID+';'\n",
    "                              'PWD='+PWD+';'\n",
    "                              'DATABASE='+Database+';' )\n",
    "    \n",
    "    #return the data from the given Query and SQL connection,\n",
    "    #for other instances just simply change or remove depending on use\n",
    "    return pd.read_sql(query, sql_conn)"
   ]
  },
  {
   "cell_type": "code",
   "execution_count": 4,
   "metadata": {},
   "outputs": [],
   "source": [
    "#establish my server and corresponding database to pull data from\n",
    "server ='GSDEMO2HOST'\n",
    "database = 'MClinical'\n",
    "UID = 'gsanalytics'\n",
    "PWD = 'G3st@lt'\n",
    "\n",
    "#this query grabs sectionValues with their corresponding examCode and description\n",
    "#does not select examCodes if there is less than 100 section values for the corresponding examCode\n",
    "#Stores the result in a pandas DataFrame object called data\n",
    "query = \"SELECT CODEKEY.RESULTKEY, CODEKEY.CPT88304, CODEKEY.CPT88305, CODEKEY.CPT88307, CODEKEY.CPT88309, CODEKEY.CPT88331, CODEKEY.CPT88341, CODEKEY.CPT88342, CODEKEY.CPT88112, CODEKEY.CPT88141, CODEKEY.CPT88175, description, ResultSection.sectionValue FROM ResultSection LEFT JOIN CODEKEY ON ResultSection.resultKey = CODEKEY.resultkey LEFT JOIN mapResultRequestedProcedure ON ResultSection.resultKey  = mapResultRequestedProcedure.resultKey LEFT JOIN RequestedProcedure ON mapResultRequestedProcedure.requestedProcedureKey = RequestedProcedure.requestedProcedureKey LEFT JOIN FillerOrder ON RequestedProcedure.fillerOrderKey = FillerOrder.fillerOrderKey LEFT JOIN PlacerOrder ON FillerOrder.placerOrderKey = PlacerOrder.placerOrderKey LEFT JOIN ExamCode ON PlacerOrder.examCodeKey = ExamCode.examCodeKey WHERE sectionValue <> ' ' and ResultSection.sectionCategory like '%patholog%' and description is not null and ResultSection.resultKey in ( select CodeKey.resultkey from CodeKey)\"\n",
    "\n",
    "\n",
    "original = getData(server, UID, PWD, database, query)\n",
    "data = original.copy() \n"
   ]
  },
  {
   "cell_type": "code",
   "execution_count": 5,
   "metadata": {},
   "outputs": [],
   "source": [
    "#removes words that have at one colon somewhere in the middle of two words\n",
    "#and words that have two colons separated by three words. \n",
    "\n",
    "def removeColon(df):\n",
    "    \n",
    "    #Word array of words that i will later remove\n",
    "    bagOfWords = []\n",
    "    \n",
    "    #a array of every word in the sectionValue on the given dataframe df\n",
    "    wordList = df.sectionValue.str.split(expand=True).stack()\n",
    "    \n",
    "    for word in wordList:\n",
    "        colonWord = re.search(r\"\\w+:\\w+:\\w+\", word)\n",
    "        if colonWord is None:\n",
    "            colonWord = re.search(r\"\\w+:\\w+\", word)\n",
    "        if colonWord is not None:\n",
    "            if colonWord.group() not in bagOfWords:\n",
    "                bagOfWords.append(colonWord.group())\n",
    "    \n",
    "    #return the updated dataframe sectionValue, only keeping words that are not contained in bagOfWords            \n",
    "    return df['sectionValue'].apply(lambda x: ' '.join([word for word in x.split() if word not in (bagOfWords)]))"
   ]
  },
  {
   "cell_type": "markdown",
   "metadata": {},
   "source": [
    "This method is more useful than it looks.\n",
    "\n",
    "You pass in a pandas DataFrame and tweak it.\n",
    "\n",
    "First, i create a empty list called bagOfWords\n",
    "\n",
    "The next line seemes confusing but bassically what I am doing here is taking every word from the sectionValue column and creating a list in which each row only contains one word. This helps with the iterative process. I store the result of this into WordList(approx 1.4 million words)\n",
    "\n",
    "Next, i iterate through every word in the wordList in a for loop.\n",
    "\n",
    "let me explain how the search process works and what words i am looking to add to my bagOfWords\n",
    "1. How does the search processWork?\n",
    "    1. I use Regex(regular expression) to do my searching for me which is on a character by character basis\n",
    "2. What kind of words am i looking for?\n",
    "    1. \\w+:\\w+ and \\w+:\\w+:\\w+\n",
    "        1. \\w searches for any character in the form [a-zA-Z0-9]\n",
    "        2. \\+ searches for the previous search condition until the end of the word. \n",
    "        3. : specifies that i want a colon \n",
    "        4. putting it all together \n",
    "            1. \\w+:\\w+ searches for a character in the form [a-zA-Z0-9] for any amount of characters in that form until it hits a colon : in which then it does the same \\w+ until the end of the word.\n",
    "            2. \\w+:\\w+:\\w+ is the same as above just has two colons i hope you get the picture..\n",
    "            \n",
    "     \n",
    "Since i am searching for two different types of words i need to search two different times for every word in wordList.\n",
    "\n",
    "I search the word to see if it matches the pattern of having three words separated by 2 colons, this returns a match object which i store in colonWord.\n",
    "\n",
    "if the word isnt found in the search it returns None, so i check if colonWord is None. If it is i search for the different type of word and store that searches result into colonWord.\n",
    "\n",
    "After that process is done i finally check to see if either of my searches came back true(not None)\n",
    "\n",
    "If they do i use colonWord.group() function to grab just the string(word) that it found.\n",
    "\n",
    "Then Check the bagOfWords to see if the word i found is already in it. \n",
    "\n",
    "If the word is already in it I move onto the next word in the wordList.\n",
    "\n",
    "if it is not, i simply  add it and move to the next word as well. \n",
    "\n",
    "Finally once i have scanned all words and created my bagOfWords that is a unique list i remove those words from the sectionValue column of the Data. \n",
    "\n",
    "what the last line in the funtion is doing is recreating my column sectionValue, but only keeping words that are NOT in bagOfWords.\n",
    "\n",
    "Once that is done i return the new column of sectionValue. "
   ]
  },
  {
   "cell_type": "code",
   "execution_count": 6,
   "metadata": {},
   "outputs": [],
   "source": [
    "#here i wanted to remove punctuation from the column sectionValue in my pandas dataFrame\n",
    "#i replace every character that matches with one of the following below with nothing.\n",
    "\n",
    "def removePunctuation(df1):\n",
    "    df1['sectionValue'] = df1['sectionValue'].str.replace(',', '')\n",
    "    df1['sectionValue'] = df1['sectionValue'].str.replace('.', '')\n",
    "    df1['sectionValue'] = df1['sectionValue'].str.replace('?', '')\n",
    "    df1['sectionValue'] = df1['sectionValue'].str.replace('/', '')\n",
    "    df1['sectionValue'] = df1['sectionValue'].str.replace('/', '')\n",
    "    df1['sectionValue'] = df1['sectionValue'].str.replace('+', '')\n",
    "    df1['sectionValue'] = df1['sectionValue'].str.replace('-', '')\n",
    "    df1['sectionValue'] = df1['sectionValue'].str.replace('=', '')\n",
    "    df1['sectionValue'] = df1['sectionValue'].str.replace('_', '')\n",
    "    df1['sectionValue'] = df1['sectionValue'].str.replace(')', '')\n",
    "    df1['sectionValue'] = df1['sectionValue'].str.replace('(', '')\n",
    "    df1['sectionValue'] = df1['sectionValue'].str.replace('*', '')\n",
    "    df1['sectionValue'] = df1['sectionValue'].str.replace('&', '')\n",
    "    df1['sectionValue'] = df1['sectionValue'].str.replace('^', '')\n",
    "    df1['sectionValue'] = df1['sectionValue'].str.replace('%', '')\n",
    "    df1['sectionValue'] = df1['sectionValue'].str.replace('$', '')\n",
    "    df1['sectionValue'] = df1['sectionValue'].str.replace('#', '')\n",
    "    df1['sectionValue'] = df1['sectionValue'].str.replace('@', '')\n",
    "    df1['sectionValue'] = df1['sectionValue'].str.replace('!', '')\n",
    "    df1['sectionValue'] = df1['sectionValue'].str.replace('>', '')\n",
    "    df1['sectionValue'] = df1['sectionValue'].str.replace('<', '')\n",
    "    df1['sectionValue'] = df1['sectionValue'].str.replace('[', '')\n",
    "    df1['sectionValue'] = df1['sectionValue'].str.replace(']', '')\n",
    "    df1['sectionValue'] = df1['sectionValue'].str.replace('{', '')\n",
    "    df1['sectionValue'] = df1['sectionValue'].str.replace('}', '')\n",
    "    df1['sectionValue'] = df1['sectionValue'].str.replace('|', '')\n",
    "    df1['sectionValue'] = df1['sectionValue'].str.replace(':', '')\n",
    "    df1['sectionValue'] = df1['sectionValue'].str.replace(';', '')\n",
    "    df1['sectionValue'] = df1['sectionValue'].str.replace('\\'', '')\n",
    "    df1['sectionValue'] = df1['sectionValue'].str.replace('\\\"', '')\n",
    "    return df1\n",
    "    "
   ]
  },
  {
   "cell_type": "code",
   "execution_count": 7,
   "metadata": {},
   "outputs": [],
   "source": [
    "def removeStopWords(df):\n",
    "    \n",
    "    #stopWords are words that have relatively no meaning to any actual data\n",
    "    #we dont want that here so lets remove them\n",
    "    stop = stopwords.words('english')\n",
    "    \n",
    "    # add custom stopWords \n",
    "    stop = addStopWords(stop)\n",
    "    \n",
    "    # add this if you want to remove words that are smaller than size two\n",
    "    # change the size to whatever you like \n",
    "    \n",
    "    #df['sectionValue'] = df['sectionValue'].apply(lambda x: ' '.join([word for word in x.split() if len(word) > 2]))\n",
    "    \n",
    "    #returning the new sectionValue to the Datafram with words that are not in the StopWords\n",
    "    return df['sectionValue'].apply(lambda x: ' '.join([word for word in x.split() if word not in (stop)]))\n"
   ]
  },
  {
   "cell_type": "code",
   "execution_count": 8,
   "metadata": {},
   "outputs": [],
   "source": [
    "#adding my own custom stopWords\n",
    "#super simple to add as you can see \n",
    "#modify as needed!\n",
    "\n",
    "def addStopWords(stop):\n",
    "    stop.append('-')\n",
    "    stop.append('a')\n",
    "    stop.append('b')\n",
    "    stop.append('c')\n",
    "    stop.append('d')\n",
    "    stop.append('e')\n",
    "    stop.append('f')\n",
    "    stop.append('g')\n",
    "    stop.append('h')\n",
    "    stop.append('i')\n",
    "    stop.append('j')\n",
    "    stop.append('k')\n",
    "    stop.append('l')\n",
    "    stop.append('m')\n",
    "    stop.append('n')\n",
    "    stop.append('o')\n",
    "    stop.append('p')\n",
    "    stop.append('q')\n",
    "    stop.append('r')\n",
    "    stop.append('s')\n",
    "    stop.append('t')\n",
    "    stop.append('u')\n",
    "    stop.append('v')\n",
    "    stop.append('w')\n",
    "    stop.append('x')\n",
    "    stop.append('y')\n",
    "    stop.append('z')\n",
    "    stop.append('no')\n",
    "    stop.append('see')\n",
    "    stop.append('two')\n",
    "    stop.append('0')\n",
    "    stop.append('1')\n",
    "    stop.append('2')\n",
    "    stop.append('3')\n",
    "    stop.append('4')\n",
    "    stop.append('5')\n",
    "    stop.append('6')\n",
    "    stop.append('7')\n",
    "    stop.append('8')\n",
    "    stop.append('9')\n",
    "    return stop"
   ]
  },
  {
   "cell_type": "code",
   "execution_count": 9,
   "metadata": {},
   "outputs": [
    {
     "name": "stderr",
     "output_type": "stream",
     "text": [
      "[nltk_data] Downloading package wordnet to\n",
      "[nltk_data]     C:\\Users\\csorensen\\AppData\\Roaming\\nltk_data...\n",
      "[nltk_data]   Package wordnet is already up-to-date!\n"
     ]
    }
   ],
   "source": [
    "#clean_text transforms words like tomatoes, tomato, tomatos, all to tomato. this is very helpful.\n",
    "\n",
    "nltk.download('wordnet')\n",
    "lemmatizer = WordNetLemmatizer()\n",
    "\n",
    "def clean_text(text):\n",
    "    text = re.sub(r'[^\\w\\s]','',text, re.UNICODE)\n",
    "    text = [lemmatizer.lemmatize(token) for token in text.split(\" \")]\n",
    "    text = [lemmatizer.lemmatize(token, \"v\") for token in text]\n",
    "    text = \" \".join(text)\n",
    "    return text"
   ]
  },
  {
   "cell_type": "code",
   "execution_count": 10,
   "metadata": {},
   "outputs": [],
   "source": [
    "#concatinate the sectionValue and description feild\n",
    "def concatExamDesc(df):\n",
    "    return  df['description'] + ' ' + df['sectionValue']"
   ]
  },
  {
   "cell_type": "code",
   "execution_count": 11,
   "metadata": {},
   "outputs": [],
   "source": [
    "def clean(df):\n",
    "    #change the case of all the words to lower case so there is no case sensitivity.\n",
    "    df['sectionValue'] = df['sectionValue'].str.lower()\n",
    "\n",
    "    #call the removeColon function to remove words with a colon or mulitple colons in the middle of the word\n",
    "    df['sectionValue'] = removeColon(df)\n",
    "\n",
    "    #call the removePuncuation code, notice how i did this after the removeColon function.\n",
    "    #it is important that we call this after the removeColon Function because this would remove colons\n",
    "    #from words we want to remove, and then the remove colon function would never find anything because there is no colons. \n",
    "    df = removePunctuation(df)\n",
    "\n",
    "    #call the removeStopWords function to remove words that have no meaning.\n",
    "    df['sectionValue'] = removeStopWords(df)\n",
    "\n",
    "    #call the clean_text to place words of simularity with the base word (ex: biopsies -> biopsy)\n",
    "    df['sectionValue'] = df.sectionValue.apply(lambda x: clean_text(x))\n",
    "\n",
    "    #add the description to the sectionValue\n",
    "    df['sectionValue'] = concatExamDesc(df)\n",
    "    return df['sectionValue']"
   ]
  },
  {
   "cell_type": "code",
   "execution_count": 12,
   "metadata": {},
   "outputs": [
    {
     "data": {
      "text/plain": [
       "43.48602071941637"
      ]
     },
     "execution_count": 12,
     "metadata": {},
     "output_type": "execute_result"
    }
   ],
   "source": [
    "data['sectionValue'] = clean(data)\n",
    "data.sectionValue.apply(lambda x: len(x.split(\" \"))).mean()"
   ]
  },
  {
   "cell_type": "code",
   "execution_count": 15,
   "metadata": {},
   "outputs": [],
   "source": [
    "def convert_text(df, maxlen, max_words):\n",
    "    #split df into two series\n",
    "    #texts being the sectionValue\n",
    "    #labels being the cooresponding examCode\n",
    "    texts = df.sectionValue\n",
    "    \n",
    "    #convert the series into numpy arrays\n",
    "    texts = texts.values\n",
    "    \n",
    "    #create a tokenizer based on the max_words\n",
    "    #fit the tokenizer to our specific texts\n",
    "    #change our texts to a vetorized integer\n",
    "    tokenizer = Tokenizer(num_words=max_words)\n",
    "    tokenizer.fit_on_texts(texts)\n",
    "    sequences = tokenizer.texts_to_sequences(texts)\n",
    "\n",
    "    word_index = tokenizer.word_index\n",
    "    print('Found %s unique tokens.' % len(word_index))\n",
    "    \n",
    "    #pad sequences ensures that all our vectors are of the same length\n",
    "    x = pad_sequences(sequences, maxlen=maxlen)\n",
    "    \n",
    "    d = defaultdict(LabelEncoder)\n",
    "    \n",
    "    fit = data[['CPT88304', 'CPT88305', 'CPT88307',\n",
    "            'CPT88309', 'CPT88331', 'CPT88341', \n",
    "            'CPT88342', 'CPT88112', 'CPT88141', \n",
    "            'CPT88175']].apply(lambda y: d[y.name].fit_transform(y))   \n",
    "    labels = fit.values\n",
    "\n",
    "    print('Shape of data tensor:', x.shape)\n",
    "    print('Shape of label tensor:', labels.shape)\n",
    "\n",
    "    #we need to randomize the indexs of our data because we had \n",
    "    #entered it all in ordely fashion. we dont want that. \n",
    "    #our model wouldnt learn correctly if it was ordered by examCode..\n",
    "    indices = np.arange(x.shape[0])\n",
    "    np.random.shuffle(indices)\n",
    "    x = x[indices]\n",
    "    labels = labels[indices]\n",
    "    \n",
    "    #return x, labels, and the last 7000 of x and labels for testing\n",
    "    return x[:35000], labels[:35000], x[-36114:], labels[-36114:]"
   ]
  },
  {
   "cell_type": "code",
   "execution_count": 16,
   "metadata": {},
   "outputs": [
    {
     "name": "stdout",
     "output_type": "stream",
     "text": [
      "Found 18876 unique tokens.\n",
      "Shape of data tensor: (71141, 100)\n",
      "Shape of label tensor: (71141, 10)\n",
      "(35000, 100)\n",
      "(35000, 10)\n",
      "(36114, 100)\n",
      "(36114, 10)\n"
     ]
    }
   ],
   "source": [
    "#define maxlen as the maximum words to take from each sectionValue\n",
    "#define max_words as the total number of unique words to tokenize\n",
    "\n",
    "maxlen = 100\n",
    "max_words = 32000\n",
    "\n",
    "#create data that can be ran through our model\n",
    "x_train, y_train, x_test, y_test = convert_text(data, maxlen, max_words)\n",
    "\n",
    "print(x_train.shape)\n",
    "print(y_train.shape)\n",
    "print(x_test.shape)\n",
    "print(y_test.shape)"
   ]
  },
  {
   "cell_type": "code",
   "execution_count": 17,
   "metadata": {},
   "outputs": [],
   "source": [
    "#create a machine learning model with the following\n",
    "def create_model(max_words,maxlen):\n",
    "    #keras default model\n",
    "    model = Sequential()\n",
    "    \n",
    "    #add an embedding layer with the input dim and input length to what we have already\n",
    "    #configured for our vectorized forms of our text\n",
    "    model.add(Embedding(input_dim = max_words, input_length=maxlen, output_dim = 50))\n",
    "    \n",
    "    #add a bidirectional LSTM layer with 32 units\n",
    "    model.add(Bidirectional(LSTM(units =32)))\n",
    "    \n",
    "    # create a dense output layer with the units = len(labels_dict)\n",
    "    model.add(Dense(10, activation='sigmoid'))\n",
    "    \n",
    "    #print the summary\n",
    "    model.summary()\n",
    "    \n",
    "    return model"
   ]
  },
  {
   "cell_type": "code",
   "execution_count": 18,
   "metadata": {},
   "outputs": [
    {
     "name": "stdout",
     "output_type": "stream",
     "text": [
      "WARNING:tensorflow:From C:\\Users\\csorensen\\.conda\\envs\\test\\lib\\site-packages\\tensorflow\\python\\framework\\op_def_library.py:263: colocate_with (from tensorflow.python.framework.ops) is deprecated and will be removed in a future version.\n",
      "Instructions for updating:\n",
      "Colocations handled automatically by placer.\n",
      "_________________________________________________________________\n",
      "Layer (type)                 Output Shape              Param #   \n",
      "=================================================================\n",
      "embedding_1 (Embedding)      (None, 100, 50)           1600000   \n",
      "_________________________________________________________________\n",
      "bidirectional_1 (Bidirection (None, 64)                21248     \n",
      "_________________________________________________________________\n",
      "dense_1 (Dense)              (None, 10)                650       \n",
      "=================================================================\n",
      "Total params: 1,621,898\n",
      "Trainable params: 1,621,898\n",
      "Non-trainable params: 0\n",
      "_________________________________________________________________\n"
     ]
    }
   ],
   "source": [
    "#create the model\n",
    "model = create_model(max_words, maxlen)"
   ]
  },
  {
   "cell_type": "code",
   "execution_count": 19,
   "metadata": {},
   "outputs": [],
   "source": [
    "#train the model\n",
    "def train_model(model, x_train, y_train, epochs, batchsize, max_words, max_len):\n",
    "    #compile the model\n",
    "    #optimizer -> rmsprop (standard)\n",
    "    #loss -> sparse categorical crossentropy (because we have a large multiclassifcation probelm)\n",
    "    #meteric -> accuracy\n",
    "    model.compile(optimizer='rmsprop',\n",
    "                  loss='binary_crossentropy',\n",
    "                  metrics=['acc']) \n",
    "    #save the history from the model\n",
    "    #set the paramiters\n",
    "    #fit the model \n",
    "    history = model.fit(x_train, \n",
    "                        y_train,\n",
    "                        epochs=epochs,\n",
    "                        batch_size=batchsize,\n",
    "                        validation_split=0.2)\n",
    "    return history"
   ]
  },
  {
   "cell_type": "code",
   "execution_count": 20,
   "metadata": {},
   "outputs": [
    {
     "name": "stdout",
     "output_type": "stream",
     "text": [
      "WARNING:tensorflow:From C:\\Users\\csorensen\\.conda\\envs\\test\\lib\\site-packages\\tensorflow\\python\\ops\\math_ops.py:3066: to_int32 (from tensorflow.python.ops.math_ops) is deprecated and will be removed in a future version.\n",
      "Instructions for updating:\n",
      "Use tf.cast instead.\n",
      "Train on 28000 samples, validate on 7000 samples\n",
      "Epoch 1/25\n",
      "28000/28000 [==============================] - 16s 582us/step - loss: 0.3074 - acc: 0.9089 - val_loss: 0.2206 - val_acc: 0.9182\n",
      "Epoch 2/25\n",
      "28000/28000 [==============================] - 18s 647us/step - loss: 0.1876 - acc: 0.9272 - val_loss: 0.1612 - val_acc: 0.9348\n",
      "Epoch 3/25\n",
      "28000/28000 [==============================] - 17s 599us/step - loss: 0.1476 - acc: 0.9464 - val_loss: 0.1369 - val_acc: 0.9533\n",
      "Epoch 4/25\n",
      "28000/28000 [==============================] - 16s 564us/step - loss: 0.1252 - acc: 0.9574 - val_loss: 0.1135 - val_acc: 0.9587\n",
      "Epoch 5/25\n",
      "28000/28000 [==============================] - 16s 567us/step - loss: 0.1054 - acc: 0.9626 - val_loss: 0.1003 - val_acc: 0.9651\n",
      "Epoch 6/25\n",
      "28000/28000 [==============================] - 16s 565us/step - loss: 0.0935 - acc: 0.9671 - val_loss: 0.0928 - val_acc: 0.9674\n",
      "Epoch 7/25\n",
      "28000/28000 [==============================] - 16s 564us/step - loss: 0.0842 - acc: 0.9695 - val_loss: 0.0862 - val_acc: 0.9685\n",
      "Epoch 8/25\n",
      "28000/28000 [==============================] - 16s 566us/step - loss: 0.0785 - acc: 0.9711 - val_loss: 0.0802 - val_acc: 0.9704\n",
      "Epoch 9/25\n",
      "28000/28000 [==============================] - 19s 671us/step - loss: 0.0714 - acc: 0.9730 - val_loss: 0.0761 - val_acc: 0.9715\n",
      "Epoch 10/25\n",
      "28000/28000 [==============================] - 19s 666us/step - loss: 0.0669 - acc: 0.9745 - val_loss: 0.0742 - val_acc: 0.9721\n",
      "Epoch 11/25\n",
      "28000/28000 [==============================] - 18s 655us/step - loss: 0.0619 - acc: 0.9766 - val_loss: 0.0717 - val_acc: 0.9737\n",
      "Epoch 12/25\n",
      "28000/28000 [==============================] - 23s 829us/step - loss: 0.0581 - acc: 0.9780 - val_loss: 0.0752 - val_acc: 0.9710\n",
      "Epoch 13/25\n",
      "28000/28000 [==============================] - 17s 603us/step - loss: 0.0546 - acc: 0.9797 - val_loss: 0.0665 - val_acc: 0.9747\n",
      "Epoch 14/25\n",
      "28000/28000 [==============================] - 22s 768us/step - loss: 0.0514 - acc: 0.9806 - val_loss: 0.0696 - val_acc: 0.9721\n",
      "Epoch 15/25\n",
      "28000/28000 [==============================] - 20s 705us/step - loss: 0.0487 - acc: 0.9818 - val_loss: 0.0741 - val_acc: 0.9738\n",
      "Epoch 16/25\n",
      "28000/28000 [==============================] - 19s 679us/step - loss: 0.0459 - acc: 0.9828 - val_loss: 0.0669 - val_acc: 0.9731\n",
      "Epoch 17/25\n",
      "28000/28000 [==============================] - 19s 670us/step - loss: 0.0436 - acc: 0.9836 - val_loss: 0.0670 - val_acc: 0.9760\n",
      "Epoch 18/25\n",
      "28000/28000 [==============================] - 24s 849us/step - loss: 0.0417 - acc: 0.9843 - val_loss: 0.0655 - val_acc: 0.9742\n",
      "Epoch 19/25\n",
      "28000/28000 [==============================] - 18s 656us/step - loss: 0.0390 - acc: 0.9856 - val_loss: 0.0637 - val_acc: 0.9767\n",
      "Epoch 20/25\n",
      "28000/28000 [==============================] - 24s 845us/step - loss: 0.0375 - acc: 0.9862 - val_loss: 0.0625 - val_acc: 0.9759\n",
      "Epoch 21/25\n",
      "28000/28000 [==============================] - 18s 660us/step - loss: 0.0359 - acc: 0.9867 - val_loss: 0.0651 - val_acc: 0.9764\n",
      "Epoch 22/25\n",
      "28000/28000 [==============================] - 21s 752us/step - loss: 0.0342 - acc: 0.9875 - val_loss: 0.0674 - val_acc: 0.9765\n",
      "Epoch 23/25\n",
      "28000/28000 [==============================] - 20s 709us/step - loss: 0.0327 - acc: 0.9881 - val_loss: 0.0678 - val_acc: 0.9767\n",
      "Epoch 24/25\n",
      "28000/28000 [==============================] - 33s 1ms/step - loss: 0.0310 - acc: 0.9889 - val_loss: 0.0648 - val_acc: 0.9761\n",
      "Epoch 25/25\n",
      "28000/28000 [==============================] - 20s 697us/step - loss: 0.0295 - acc: 0.9893 - val_loss: 0.0714 - val_acc: 0.9759\n"
     ]
    }
   ],
   "source": [
    "#train the model\n",
    "history = train_model(model, x_train, y_train, 25, 500, max_words, maxlen)"
   ]
  },
  {
   "cell_type": "code",
   "execution_count": 21,
   "metadata": {},
   "outputs": [],
   "source": [
    "#generate the report for the training process\n",
    "def training_report(history):\n",
    "    #get the data from the model history file \n",
    "    acc = history.history['acc']\n",
    "    val_acc = history.history['val_acc']\n",
    "    loss = history.history['loss']\n",
    "    val_loss = history.history['val_loss']\n",
    "    \n",
    "    #set our epochs\n",
    "    epochs = range(1, len(acc) + 1)\n",
    "\n",
    "    #plot the accuracy \n",
    "    plt.plot(epochs, acc, 'bo', label='Training acc')\n",
    "    plt.plot(epochs, val_acc, 'b', label='Validation acc')\n",
    "    plt.title('Training and validation accuracy')\n",
    "    plt.legend()\n",
    "\n",
    "    plt.figure()\n",
    "    \n",
    "    #plot the loss\n",
    "    plt.plot(epochs, loss, 'bo', label='Training loss')\n",
    "    plt.plot(epochs, val_loss, 'b', label='Validation loss')\n",
    "    plt.title('Training and validation loss')\n",
    "    plt.legend()\n",
    "\n",
    "    plt.show()\n",
    "\n",
    "    #display the max values we attained\n",
    "    print('Validation Accuracy: ', val_acc[np.argmax(val_acc)] * 100)\n",
    "    print('Training Accuracy: ', acc[np.argmax(acc)] * 100)"
   ]
  },
  {
   "cell_type": "code",
   "execution_count": 22,
   "metadata": {},
   "outputs": [
    {
     "data": {
      "image/png": "[encoded data removed]",
      "text/plain": [
       "<Figure size 432x288 with 1 Axes>"
      ]
     },
     "metadata": {
      "needs_background": "light"
     },
     "output_type": "display_data"
    },
    {
     "data": {
      "image/png": "[encoded data removed]",
      "text/plain": [
       "<Figure size 432x288 with 1 Axes>"
      ]
     },
     "metadata": {
      "needs_background": "light"
     },
     "output_type": "display_data"
    },
    {
     "name": "stdout",
     "output_type": "stream",
     "text": [
      "Validation Accuracy:  97.6742970091956\n",
      "Training Accuracy:  98.93143602779934\n"
     ]
    }
   ],
   "source": [
    "training_report(history)"
   ]
  },
  {
   "cell_type": "code",
   "execution_count": 23,
   "metadata": {},
   "outputs": [],
   "source": [
    "#test the model on our set aside testing data\n",
    "def test_model(model, x_test):\n",
    "    #gather the models prediction \n",
    "    \n",
    "    #the model displays its prediction as a list of all the categories \n",
    "    #with percents in each category at how confident the model is for \n",
    "    #each category. the highest percent is the category it predicts\n",
    "    preds = model.predict(x_test)\n",
    "    \n",
    "    #for ever row in the prediction list\n",
    "    #grap the max value and append that index to the y_pred\n",
    "    preds[preds>=0.5] = 1\n",
    "    preds[preds<0.5] = 0\n",
    "    \n",
    "    #convert the list to a numpy array\n",
    "    return np.asarray(preds)"
   ]
  },
  {
   "cell_type": "code",
   "execution_count": 24,
   "metadata": {},
   "outputs": [],
   "source": [
    "#test the model against our small test data and store the predictions in y_pred\n",
    "y_pred = test_model(model, x_test)"
   ]
  },
  {
   "cell_type": "code",
   "execution_count": 25,
   "metadata": {},
   "outputs": [],
   "source": [
    "#create the confusion matrix\n",
    "def test_confusion_matrix(y_pred,y_test):\n",
    "    return skm.multilabel_confusion_matrix(y_test, y_pred)"
   ]
  },
  {
   "cell_type": "code",
   "execution_count": 26,
   "metadata": {},
   "outputs": [],
   "source": [
    "#create the classification report\n",
    "def test_classification_report(y_pred,y_test):\n",
    "    #cr from index values\n",
    "    crindex = classification_report(y_test, y_pred)\n",
    "    \n",
    "    #convert index values back to examCodes\n",
    "    temp1 = []\n",
    "    temp2 = []\n",
    "    for label in y_pred:\n",
    "        temp1.append(label_dict.item(label))\n",
    "\n",
    "    for label in y_test:\n",
    "        temp2.append(label_dict.item(label))\n",
    "\n",
    "    #change the lists to numpy arrays\n",
    "    temp1 = np.asarray(temp1)\n",
    "    temp2 = np.asarray(temp2)\n",
    "    #cr from examCodes\n",
    "    crlabel =classification_report(temp2, temp1)\n",
    "    print(crlabel)\n",
    "    #return crindex and crlabel and temp1    \n",
    "    return crindex, crlabel, temp1"
   ]
  },
  {
   "cell_type": "code",
   "execution_count": 27,
   "metadata": {
    "scrolled": true
   },
   "outputs": [
    {
     "name": "stdout",
     "output_type": "stream",
     "text": [
      "88304\n",
      "       0     1\n",
      "0  31585   352\n",
      "1    357  3820 \n",
      "\n",
      "\n",
      "88305\n",
      "      0      1\n",
      "0  7243    593\n",
      "1   640  27638 \n",
      "\n",
      "\n",
      "88307\n",
      "       0     1\n",
      "0  29298   355\n",
      "1    526  5935 \n",
      "\n",
      "\n",
      "88309\n",
      "       0    1\n",
      "0  34729  146\n",
      "1    354  885 \n",
      "\n",
      "\n",
      "88331\n",
      "       0    1\n",
      "0  34118  347\n",
      "1    751  898 \n",
      "\n",
      "\n",
      "88341\n",
      "       0    1\n",
      "0  33576  437\n",
      "1   1260  841 \n",
      "\n",
      "\n",
      "88342\n",
      "       0     1\n",
      "0  29630   707\n",
      "1   1766  4011 \n",
      "\n",
      "\n",
      "88112\n",
      "       0  1\n",
      "0  36113  0\n",
      "1      1  0 \n",
      "\n",
      "\n",
      "88141\n",
      "       0  1\n",
      "0  36114  0\n",
      "1      0  0 \n",
      "\n",
      "\n",
      "88175\n",
      "       0  1\n",
      "0  36114  0\n",
      "1      0  0 \n",
      "\n",
      "\n",
      "              precision    recall  f1-score   support\n",
      "\n",
      "           0       0.92      0.91      0.92      4177\n",
      "           1       0.98      0.98      0.98     28278\n",
      "           2       0.94      0.92      0.93      6461\n",
      "           3       0.86      0.71      0.78      1239\n",
      "           4       0.72      0.54      0.62      1649\n",
      "           5       0.66      0.40      0.50      2101\n",
      "           6       0.85      0.69      0.76      5777\n",
      "           7       0.00      0.00      0.00         1\n",
      "           8       0.00      0.00      0.00         0\n",
      "           9       0.00      0.00      0.00         0\n",
      "\n",
      "   micro avg       0.94      0.89      0.91     49683\n",
      "   macro avg       0.59      0.52      0.55     49683\n",
      "weighted avg       0.93      0.89      0.90     49683\n",
      " samples avg       0.96      0.94      0.94     49683\n",
      "\n"
     ]
    },
    {
     "name": "stderr",
     "output_type": "stream",
     "text": [
      "C:\\Users\\csorensen\\.conda\\envs\\test\\lib\\site-packages\\sklearn\\metrics\\classification.py:1437: UndefinedMetricWarning: Precision and F-score are ill-defined and being set to 0.0 in labels with no predicted samples.\n",
      "  'precision', 'predicted', average, warn_for)\n",
      "C:\\Users\\csorensen\\.conda\\envs\\test\\lib\\site-packages\\sklearn\\metrics\\classification.py:1439: UndefinedMetricWarning: Recall and F-score are ill-defined and being set to 0.0 in labels with no true samples.\n",
      "  'recall', 'true', average, warn_for)\n",
      "C:\\Users\\csorensen\\.conda\\envs\\test\\lib\\site-packages\\sklearn\\metrics\\classification.py:1437: UndefinedMetricWarning: Precision and F-score are ill-defined and being set to 0.0 in samples with no predicted labels.\n",
      "  'precision', 'predicted', average, warn_for)\n"
     ]
    }
   ],
   "source": [
    "#get confusion matrix\n",
    "matrix = test_confusion_matrix(y_pred, y_test)\n",
    "x = 0\n",
    "temp = ['88304', '88305', '88307',\n",
    "            '88309', '88331', '88341', \n",
    "            '88342', '88112', '88141', \n",
    "            '88175']\n",
    "temp = np.asarray(temp)\n",
    "for i in matrix:\n",
    "    print(temp[x])\n",
    "    dfmatrix = pd.DataFrame(i)\n",
    "    print(dfmatrix, '\\n\\n')\n",
    "    x = x+1\n",
    "\n",
    "#get classification reports and the array machineOutput as codes\n",
    "#crindex, crlabel, codeList=test_classification_report(y_pred, y_test)\n",
    "\n",
    "print(skm.classification_report(y_test, y_pred))"
   ]
  },
  {
   "cell_type": "code",
   "execution_count": null,
   "metadata": {},
   "outputs": [],
   "source": []
  }
 ],
 "metadata": {
  "kernelspec": {
   "display_name": "Python 3",
   "language": "python",
   "name": "python3"
  },
  "language_info": {
   "codemirror_mode": {
    "name": "ipython",
    "version": 3
   },
   "file_extension": ".py",
   "mimetype": "text/x-python",
   "name": "python",
   "nbconvert_exporter": "python",
   "pygments_lexer": "ipython3",
   "version": "3.7.3"
  }
 },
 "nbformat": 4,
 "nbformat_minor": 2
}
