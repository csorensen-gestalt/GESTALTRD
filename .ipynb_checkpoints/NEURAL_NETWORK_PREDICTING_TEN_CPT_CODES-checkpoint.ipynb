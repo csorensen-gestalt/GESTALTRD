{
 "cells": [
  {
   "cell_type": "code",
   "execution_count": 117,
   "metadata": {},
   "outputs": [
    {
     "name": "stdout",
     "output_type": "stream",
     "text": [
      "Collecting package metadata (current_repodata.json): ...working... done\n",
      "Solving environment: ...working... done\n",
      "\n",
      "# All requested packages already installed.\n",
      "\n"
     ]
    }
   ],
   "source": [
    "import sys\n",
    "\n",
    "!conda install --yes --prefix {sys.prefix} scikit-learn"
   ]
  },
  {
   "cell_type": "code",
   "execution_count": 1,
   "metadata": {},
   "outputs": [
    {
     "name": "stderr",
     "output_type": "stream",
     "text": [
      "Using TensorFlow backend.\n"
     ]
    }
   ],
   "source": [
    "#all the imports used in the program\n",
    "\n",
    "import pandas as pd \n",
    "import pyodbc\n",
    "import numpy as np\n",
    "import matplotlib.pyplot as plt\n",
    "import nltk \n",
    "from nltk.corpus import stopwords\n",
    "from nltk.stem import WordNetLemmatizer\n",
    "import re\n",
    "from keras.preprocessing.text import Tokenizer\n",
    "from keras.preprocessing.sequence import pad_sequences\n",
    "from keras.models import Sequential\n",
    "from keras.layers import Embedding, Flatten, Dense, Bidirectional, LSTM, GlobalMaxPool1D, Dropout, GRU, Flatten\n",
    "from sklearn.metrics import f1_score\n",
    "from sklearn.preprocessing import OneHotEncoder\n",
    "from sklearn.preprocessing import LabelEncoder\n",
    "from collections import defaultdict\n",
    "import sklearn.metrics as skm"
   ]
  },
  {
   "cell_type": "code",
   "execution_count": 2,
   "metadata": {},
   "outputs": [],
   "source": [
    "#Grab data from a database\n",
    "\n",
    "def getData(Server, Database, query):    \n",
    "    \n",
    "    #create a SQL connection based on the given server and database\n",
    "    sql_conn = pyodbc.connect('DRIVER={SQL Server};'\n",
    "                          'SERVER='+Server+';' \n",
    "                          'DATABASE='+Database+';' \n",
    "                          'Trusted_Connection=yes')\n",
    "    \n",
    "    #return the data from the given Query and SQL connection,\n",
    "    #here i hard coded the index so all queries must select examCode\n",
    "    #for other instances just simply change or remove depending on use\n",
    "    return pd.read_sql(query, sql_conn)"
   ]
  },
  {
   "cell_type": "code",
   "execution_count": 3,
   "metadata": {},
   "outputs": [],
   "source": [
    "#establish my server and corresponding database to pull data from\n",
    "server ='GESTALT-BT41Q'\n",
    "database = 'MClinical'\n",
    "\n",
    "#this query grabs sectionValues with their corresponding examCode and description\n",
    "#does not select examCodes if there is less than 100 section values for the corresponding examCode\n",
    "#Stores the result in a pandas DataFrame object called data\n",
    "query = \"SELECT CPTCODEKEY.CPT88304, CPTCODEKEY.CPT88305, CPTCODEKEY.CPT88307, CPTCODEKEY.CPT88309, CPTCODEKEY.CPT88331, CPTCODEKEY.CPT88341, CPTCODEKEY.CPT88342, CPTCODEKEY.CPT88112, CPTCODEKEY.CPT88141, CPTCODEKEY.CPT88175, description, ResultSection.sectionValue FROM [MClinical].[dbo].[Result] LEFT JOIN ResultSection ON Result.resultKey = ResultSection.resultKey left join mapResultRequestedProcedure ON Result.resultKey = mapResultRequestedProcedure.resultKey  left join RequestedProcedure ON mapResultRequestedProcedure.requestedProcedureKey = RequestedProcedure.requestedProcedureKey left join FillerOrder ON RequestedProcedure.fillerOrderKey = FillerOrder.fillerOrderKey left join PlacerOrder ON FillerOrder.placerOrderKey = PlacerOrder.placerOrderKey left join ExamCode ON PlacerOrder.examCodeKey = ExamCode.examCodeKey left join Patient on FillerOrder.patientKey = Patient.patientKey left join cptcodekey on patient.patientkey = cptcodekey.patient_key WHERE sectionValue <> ' ' and (ResultSection.sectionValue <>' No diagnosis; performed technical only ') and ResultSection.sectionCategory like '%pathologic%' and description is not null and Patient.patientKey in ( select patient_key from cptcodekey ) order by patient.patientkey\"\n",
    "\n",
    "\n",
    "\n",
    "original = getData(server,database,query)\n",
    "data = original.copy()\n"
   ]
  },
  {
   "cell_type": "code",
   "execution_count": 75,
   "metadata": {},
   "outputs": [
    {
     "name": "stdout",
     "output_type": "stream",
     "text": [
      "nan\n"
     ]
    },
    {
     "ename": "TypeError",
     "evalue": "'float' object cannot be interpreted as an integer",
     "output_type": "error",
     "traceback": [
      "\u001b[1;31m---------------------------------------------------------------------------\u001b[0m",
      "\u001b[1;31mTypeError\u001b[0m                                 Traceback (most recent call last)",
      "\u001b[1;32m<ipython-input-75-0100dc161538>\u001b[0m in \u001b[0;36m<module>\u001b[1;34m\u001b[0m\n\u001b[0;32m      3\u001b[0m     \u001b[1;32mif\u001b[0m\u001b[1;33m(\u001b[0m\u001b[0mtype\u001b[0m\u001b[1;33m(\u001b[0m\u001b[0mi\u001b[0m\u001b[1;33m)\u001b[0m \u001b[1;33m==\u001b[0m \u001b[0mfloat\u001b[0m\u001b[1;33m)\u001b[0m\u001b[1;33m:\u001b[0m\u001b[1;33m\u001b[0m\u001b[1;33m\u001b[0m\u001b[0m\n\u001b[0;32m      4\u001b[0m         \u001b[0mprint\u001b[0m\u001b[1;33m(\u001b[0m\u001b[0mi\u001b[0m\u001b[1;33m)\u001b[0m\u001b[1;33m\u001b[0m\u001b[1;33m\u001b[0m\u001b[0m\n\u001b[1;32m----> 5\u001b[1;33m         \u001b[0mprint\u001b[0m\u001b[1;33m(\u001b[0m\u001b[0mdata\u001b[0m\u001b[1;33m.\u001b[0m\u001b[0msectionValue\u001b[0m\u001b[1;33m.\u001b[0m\u001b[0mvalues\u001b[0m\u001b[1;33m.\u001b[0m\u001b[0mitem\u001b[0m\u001b[1;33m(\u001b[0m\u001b[0mi\u001b[0m\u001b[1;33m)\u001b[0m\u001b[1;33m)\u001b[0m\u001b[1;33m\u001b[0m\u001b[1;33m\u001b[0m\u001b[0m\n\u001b[0m",
      "\u001b[1;31mTypeError\u001b[0m: 'float' object cannot be interpreted as an integer"
     ]
    }
   ],
   "source": [
    "for i in data.sectionValue.values:\n",
    "    if(type(i) == float):\n",
    "        print(i)"
   ]
  },
  {
   "cell_type": "code",
   "execution_count": 4,
   "metadata": {},
   "outputs": [],
   "source": [
    "#removes words that have at one colon somewhere in the middle of two words\n",
    "#and words that have two colons separated by three words. \n",
    "\n",
    "def removeColon(df):\n",
    "    \n",
    "    #Word array of words that i will later remove\n",
    "    bagOfWords = []\n",
    "    \n",
    "    #a array of every word in the sectionValue on the given dataframe df\n",
    "    wordList = df.sectionValue.str.split(expand=True).stack()\n",
    "    \n",
    "    for word in wordList:\n",
    "        colonWord = re.search(r\"\\w+:\\w+:\\w+\", word)\n",
    "        if colonWord is None:\n",
    "            colonWord = re.search(r\"\\w+:\\w+\", word)\n",
    "        if colonWord is not None:\n",
    "            if colonWord.group() not in bagOfWords:\n",
    "                bagOfWords.append(colonWord.group())\n",
    "    \n",
    "    #return the updated dataframe sectionValue, only keeping words that are not contained in bagOfWords            \n",
    "    return df['sectionValue'].apply(lambda x: ' '.join([word for word in x.split() if word not in (bagOfWords)]))"
   ]
  },
  {
   "cell_type": "markdown",
   "metadata": {},
   "source": [
    "This method is more useful than it looks.\n",
    "\n",
    "You pass in a pandas DataFrame and tweak it.\n",
    "\n",
    "First, i create a empty list called bagOfWords\n",
    "\n",
    "The next line seemes confusing but bassically what I am doing here is taking every word from the sectionValue column and creating a list in which each row only contains one word. This helps with the iterative process. I store the result of this into WordList(approx 1.4 million words)\n",
    "\n",
    "Next, i iterate through every word in the wordList in a for loop.\n",
    "\n",
    "let me explain how the search process works and what words i am looking to add to my bagOfWords\n",
    "1. How does the search processWork?\n",
    "    1. I use Regex(regular expression) to do my searching for me which is on a character by character basis\n",
    "2. What kind of words am i looking for?\n",
    "    1. \\w+:\\w+ and \\w+:\\w+:\\w+\n",
    "        1. \\w searches for any character in the form [a-zA-Z0-9]\n",
    "        2. \\+ searches for the previous search condition until the end of the word. \n",
    "        3. : specifies that i want a colon \n",
    "        4. putting it all together \n",
    "            1. \\w+:\\w+ searches for a character in the form [a-zA-Z0-9] for any amount of characters in that form until it hits a colon : in which then it does the same \\w+ until the end of the word.\n",
    "            2. \\w+:\\w+:\\w+ is the same as above just has two colons i hope you get the picture..\n",
    "            \n",
    "     \n",
    "Since i am searching for two different types of words i need to search two different times for every word in wordList.\n",
    "\n",
    "I search the word to see if it matches the pattern of having three words separated by 2 colons, this returns a match object which i store in colonWord.\n",
    "\n",
    "if the word isnt found in the search it returns None, so i check if colonWord is None. If it is i search for the different type of word and store that searches result into colonWord.\n",
    "\n",
    "After that process is done i finally check to see if either of my searches came back true(not None)\n",
    "\n",
    "If they do i use colonWord.group() function to grab just the string(word) that it found.\n",
    "\n",
    "Then Check the bagOfWords to see if the word i found is already in it. \n",
    "\n",
    "If the word is already in it I move onto the next word in the wordList.\n",
    "\n",
    "if it is not, i simply  add it and move to the next word as well. \n",
    "\n",
    "Finally once i have scanned all words and created my bagOfWords that is a unique list i remove those words from the sectionValue column of the Data. \n",
    "\n",
    "what the last line in the funtion is doing is recreating my column sectionValue, but only keeping words that are NOT in bagOfWords.\n",
    "\n",
    "Once that is done i return the new column of sectionValue. "
   ]
  },
  {
   "cell_type": "code",
   "execution_count": 5,
   "metadata": {},
   "outputs": [],
   "source": [
    "#here i wanted to remove punctuation from the column sectionValue in my pandas dataFrame\n",
    "#i replace every character that matches with one of the following below with nothing.\n",
    "\n",
    "def removePunctuation(df1):\n",
    "    df1['sectionValue'] = df1['sectionValue'].str.replace(',', '')\n",
    "    df1['sectionValue'] = df1['sectionValue'].str.replace('.', '')\n",
    "    df1['sectionValue'] = df1['sectionValue'].str.replace('?', '')\n",
    "    df1['sectionValue'] = df1['sectionValue'].str.replace('/', '')\n",
    "    df1['sectionValue'] = df1['sectionValue'].str.replace('/', '')\n",
    "    df1['sectionValue'] = df1['sectionValue'].str.replace('+', '')\n",
    "    df1['sectionValue'] = df1['sectionValue'].str.replace('-', '')\n",
    "    df1['sectionValue'] = df1['sectionValue'].str.replace('=', '')\n",
    "    df1['sectionValue'] = df1['sectionValue'].str.replace('_', '')\n",
    "    df1['sectionValue'] = df1['sectionValue'].str.replace(')', '')\n",
    "    df1['sectionValue'] = df1['sectionValue'].str.replace('(', '')\n",
    "    df1['sectionValue'] = df1['sectionValue'].str.replace('*', '')\n",
    "    df1['sectionValue'] = df1['sectionValue'].str.replace('&', '')\n",
    "    df1['sectionValue'] = df1['sectionValue'].str.replace('^', '')\n",
    "    df1['sectionValue'] = df1['sectionValue'].str.replace('%', '')\n",
    "    df1['sectionValue'] = df1['sectionValue'].str.replace('$', '')\n",
    "    df1['sectionValue'] = df1['sectionValue'].str.replace('#', '')\n",
    "    df1['sectionValue'] = df1['sectionValue'].str.replace('@', '')\n",
    "    df1['sectionValue'] = df1['sectionValue'].str.replace('!', '')\n",
    "    df1['sectionValue'] = df1['sectionValue'].str.replace('>', '')\n",
    "    df1['sectionValue'] = df1['sectionValue'].str.replace('<', '')\n",
    "    df1['sectionValue'] = df1['sectionValue'].str.replace('[', '')\n",
    "    df1['sectionValue'] = df1['sectionValue'].str.replace(']', '')\n",
    "    df1['sectionValue'] = df1['sectionValue'].str.replace('{', '')\n",
    "    df1['sectionValue'] = df1['sectionValue'].str.replace('}', '')\n",
    "    df1['sectionValue'] = df1['sectionValue'].str.replace('|', '')\n",
    "    df1['sectionValue'] = df1['sectionValue'].str.replace(':', '')\n",
    "    df1['sectionValue'] = df1['sectionValue'].str.replace(';', '')\n",
    "    df1['sectionValue'] = df1['sectionValue'].str.replace('\\'', '')\n",
    "    df1['sectionValue'] = df1['sectionValue'].str.replace('\\\"', '')\n",
    "    return df1\n",
    "    "
   ]
  },
  {
   "cell_type": "code",
   "execution_count": 6,
   "metadata": {},
   "outputs": [],
   "source": [
    "def removeStopWords(df):\n",
    "    \n",
    "    #stopWords are words that have relatively no meaning to any actual data\n",
    "    #we dont want that here so lets remove them\n",
    "    stop = stopwords.words('english')\n",
    "    \n",
    "    # add custom stopWords \n",
    "    stop = addStopWords(stop)\n",
    "    \n",
    "    # add this if you want to remove words that are smaller than size two\n",
    "    # change the size to whatever you like \n",
    "    \n",
    "    #df['sectionValue'] = df['sectionValue'].apply(lambda x: ' '.join([word for word in x.split() if len(word) > 2]))\n",
    "    \n",
    "    #returning the new sectionValue to the Datafram with words that are not in the StopWords\n",
    "    return df['sectionValue'].apply(lambda x: ' '.join([word for word in x.split() if word not in (stop)]))\n"
   ]
  },
  {
   "cell_type": "code",
   "execution_count": 7,
   "metadata": {},
   "outputs": [],
   "source": [
    "#adding my own custom stopWords\n",
    "#super simple to add as you can see \n",
    "#modify as needed!\n",
    "\n",
    "def addStopWords(stop):\n",
    "    stop.append('-')\n",
    "    stop.append('a')\n",
    "    stop.append('b')\n",
    "    stop.append('c')\n",
    "    stop.append('d')\n",
    "    stop.append('e')\n",
    "    stop.append('f')\n",
    "    stop.append('g')\n",
    "    stop.append('h')\n",
    "    stop.append('i')\n",
    "    stop.append('j')\n",
    "    stop.append('k')\n",
    "    stop.append('l')\n",
    "    stop.append('m')\n",
    "    stop.append('n')\n",
    "    stop.append('o')\n",
    "    stop.append('p')\n",
    "    stop.append('q')\n",
    "    stop.append('r')\n",
    "    stop.append('s')\n",
    "    stop.append('t')\n",
    "    stop.append('u')\n",
    "    stop.append('v')\n",
    "    stop.append('w')\n",
    "    stop.append('x')\n",
    "    stop.append('y')\n",
    "    stop.append('z')\n",
    "    stop.append('no')\n",
    "    stop.append('see')\n",
    "    stop.append('two')\n",
    "    stop.append('0')\n",
    "    stop.append('1')\n",
    "    stop.append('2')\n",
    "    stop.append('3')\n",
    "    stop.append('4')\n",
    "    stop.append('5')\n",
    "    stop.append('6')\n",
    "    stop.append('7')\n",
    "    stop.append('8')\n",
    "    stop.append('9')\n",
    "    return stop"
   ]
  },
  {
   "cell_type": "code",
   "execution_count": 8,
   "metadata": {},
   "outputs": [
    {
     "name": "stderr",
     "output_type": "stream",
     "text": [
      "[nltk_data] Downloading package wordnet to\n",
      "[nltk_data]     C:\\Users\\csorensen\\AppData\\Roaming\\nltk_data...\n",
      "[nltk_data]   Package wordnet is already up-to-date!\n"
     ]
    }
   ],
   "source": [
    "#clean_text transforms words like tomatoes, tomato, tomatos, all to tomato. this is very helpful.\n",
    "\n",
    "nltk.download('wordnet')\n",
    "lemmatizer = WordNetLemmatizer()\n",
    "\n",
    "def clean_text(text):\n",
    "    text = re.sub(r'[^\\w\\s]','',text, re.UNICODE)\n",
    "    text = [lemmatizer.lemmatize(token) for token in text.split(\" \")]\n",
    "    text = [lemmatizer.lemmatize(token, \"v\") for token in text]\n",
    "    text = \" \".join(text)\n",
    "    return text"
   ]
  },
  {
   "cell_type": "code",
   "execution_count": 9,
   "metadata": {},
   "outputs": [],
   "source": [
    "#concatinate the sectionValue and description feild\n",
    "def concatExamDesc(df):\n",
    "    return  df['description'] + ' ' + df['sectionValue']"
   ]
  },
  {
   "cell_type": "code",
   "execution_count": 10,
   "metadata": {},
   "outputs": [],
   "source": [
    "def clean(df):\n",
    "    #change the case of all the words to lower case so there is no case sensitivity.\n",
    "    df['sectionValue'] = df['sectionValue'].str.lower()\n",
    "\n",
    "    #call the removeColon function to remove words with a colon or mulitple colons in the middle of the word\n",
    "    df['sectionValue'] = removeColon(df)\n",
    "\n",
    "    #call the removePuncuation code, notice how i did this after the removeColon function.\n",
    "    #it is important that we call this after the removeColon Function because this would remove colons\n",
    "    #from words we want to remove, and then the remove colon function would never find anything because there is no colons. \n",
    "    df = removePunctuation(df)\n",
    "\n",
    "    #call the removeStopWords function to remove words that have no meaning.\n",
    "    df['sectionValue'] = removeStopWords(df)\n",
    "\n",
    "    #call the clean_text to place words of simularity with the base word (ex: biopsies -> biopsy)\n",
    "    df['sectionValue'] = df.sectionValue.apply(lambda x: clean_text(x))\n",
    "\n",
    "    #add the description to the sectionValue\n",
    "    df['sectionValue'] = concatExamDesc(df)\n",
    "    return df['sectionValue']"
   ]
  },
  {
   "cell_type": "code",
   "execution_count": 11,
   "metadata": {},
   "outputs": [
    {
     "data": {
      "text/plain": [
       "42.92826681942588"
      ]
     },
     "execution_count": 11,
     "metadata": {},
     "output_type": "execute_result"
    }
   ],
   "source": [
    "data['sectionValue'] = clean(data)\n",
    "data.sectionValue.apply(lambda x: len(x.split(\" \"))).mean()"
   ]
  },
  {
   "cell_type": "code",
   "execution_count": 12,
   "metadata": {},
   "outputs": [],
   "source": [
    "def convert_text(df, maxlen, max_words):\n",
    "    #split df into two series\n",
    "    #texts being the sectionValue\n",
    "    #labels being the cooresponding examCode\n",
    "    texts = df.sectionValue\n",
    "    \n",
    "    #convert the series into numpy arrays\n",
    "    texts = texts.values\n",
    "    \n",
    "    #create a tokenizer based on the max_words\n",
    "    #fit the tokenizer to our specific texts\n",
    "    #change our texts to a vetorized integer\n",
    "    tokenizer = Tokenizer(num_words=max_words)\n",
    "    tokenizer.fit_on_texts(texts)\n",
    "    sequences = tokenizer.texts_to_sequences(texts)\n",
    "\n",
    "    word_index = tokenizer.word_index\n",
    "    print('Found %s unique tokens.' % len(word_index))\n",
    "    \n",
    "    #pad sequences ensures that all our vectors are of the same length\n",
    "    x = pad_sequences(sequences, maxlen=maxlen)\n",
    "    \n",
    "    d = defaultdict(LabelEncoder)\n",
    "    \n",
    "    fit = data[['CPT88304', 'CPT88305', 'CPT88307',\n",
    "            'CPT88309', 'CPT88331', 'CPT88341', \n",
    "            'CPT88342', 'CPT88112', 'CPT88141', \n",
    "            'CPT88175']].apply(lambda y: d[y.name].fit_transform(y))   \n",
    "    labels = fit.values\n",
    "\n",
    "    print('Shape of data tensor:', x.shape)\n",
    "    print('Shape of label tensor:', labels.shape)\n",
    "\n",
    "    #we need to randomize the indexs of our data because we had \n",
    "    #entered it all in ordely fashion. we dont want that. \n",
    "    #our model wouldnt learn correctly if it was ordered by examCode..\n",
    "    indices = np.arange(x.shape[0])\n",
    "    np.random.shuffle(indices)\n",
    "    x = x[indices]\n",
    "    labels = labels[indices]\n",
    "    \n",
    "    #return x, labels, and the last 7000 of x and labels for testing\n",
    "    return x[:13000], labels[:13000], x[-2000:], labels[-2000:]"
   ]
  },
  {
   "cell_type": "code",
   "execution_count": 13,
   "metadata": {},
   "outputs": [
    {
     "name": "stdout",
     "output_type": "stream",
     "text": [
      "Found 8517 unique tokens.\n",
      "Shape of data tensor: (15711, 100)\n",
      "Shape of label tensor: (15711, 10)\n",
      "(13000, 100)\n",
      "(13000, 10)\n",
      "(2000, 100)\n",
      "(2000, 10)\n"
     ]
    }
   ],
   "source": [
    "#define maxlen as the maximum words to take from each sectionValue\n",
    "#define max_words as the total number of unique words to tokenize\n",
    "\n",
    "maxlen = 100\n",
    "max_words = 10000\n",
    "\n",
    "#create data that can be ran through our model\n",
    "x_train, y_train, x_test, y_test = convert_text(data, maxlen, max_words)\n",
    "\n",
    "print(x_train.shape)\n",
    "print(y_train.shape)\n",
    "print(x_test.shape)\n",
    "print(y_test.shape)"
   ]
  },
  {
   "cell_type": "code",
   "execution_count": 14,
   "metadata": {},
   "outputs": [],
   "source": [
    "#create a machine learning model with the following\n",
    "def create_model(max_words,maxlen):\n",
    "    #keras default model\n",
    "    model = Sequential()\n",
    "    \n",
    "    #add an embedding layer with the input dim and input length to what we have already\n",
    "    #configured for our vectorized forms of our text\n",
    "    model.add(Embedding(input_dim = max_words, input_length=maxlen, output_dim = 50))\n",
    "    \n",
    "    #add a bidirectional LSTM layer with 32 units\n",
    "    model.add(Bidirectional(LSTM(units =32)))\n",
    "    \n",
    "    # create a dense output layer with the units = len(labels_dict)\n",
    "    model.add(Dense(10, activation='sigmoid'))\n",
    "    \n",
    "    #print the summary\n",
    "    model.summary()\n",
    "    \n",
    "    return model"
   ]
  },
  {
   "cell_type": "code",
   "execution_count": 15,
   "metadata": {},
   "outputs": [
    {
     "name": "stdout",
     "output_type": "stream",
     "text": [
      "WARNING:tensorflow:From C:\\Users\\csorensen\\.conda\\envs\\test\\lib\\site-packages\\tensorflow\\python\\framework\\op_def_library.py:263: colocate_with (from tensorflow.python.framework.ops) is deprecated and will be removed in a future version.\n",
      "Instructions for updating:\n",
      "Colocations handled automatically by placer.\n",
      "_________________________________________________________________\n",
      "Layer (type)                 Output Shape              Param #   \n",
      "=================================================================\n",
      "embedding_1 (Embedding)      (None, 100, 50)           500000    \n",
      "_________________________________________________________________\n",
      "bidirectional_1 (Bidirection (None, 64)                21248     \n",
      "_________________________________________________________________\n",
      "dense_1 (Dense)              (None, 10)                650       \n",
      "=================================================================\n",
      "Total params: 521,898\n",
      "Trainable params: 521,898\n",
      "Non-trainable params: 0\n",
      "_________________________________________________________________\n"
     ]
    }
   ],
   "source": [
    "#create the model\n",
    "model = create_model(max_words, maxlen)"
   ]
  },
  {
   "cell_type": "code",
   "execution_count": 16,
   "metadata": {},
   "outputs": [],
   "source": [
    "#train the model\n",
    "def train_model(model, x_train, y_train, epochs, batchsize, max_words, max_len):\n",
    "    #compile the model\n",
    "    #optimizer -> rmsprop (standard)\n",
    "    #loss -> sparse categorical crossentropy (because we have a large multiclassifcation probelm)\n",
    "    #meteric -> accuracy\n",
    "    model.compile(optimizer='rmsprop',\n",
    "                  loss='binary_crossentropy',\n",
    "                  metrics=['acc']) \n",
    "    #save the history from the model\n",
    "    #set the paramiters\n",
    "    #fit the model \n",
    "    history = model.fit(x_train, \n",
    "                        y_train,\n",
    "                        epochs=epochs,\n",
    "                        batch_size=batchsize,\n",
    "                        validation_split=0.2)\n",
    "    return history"
   ]
  },
  {
   "cell_type": "code",
   "execution_count": 17,
   "metadata": {},
   "outputs": [
    {
     "name": "stdout",
     "output_type": "stream",
     "text": [
      "WARNING:tensorflow:From C:\\Users\\csorensen\\.conda\\envs\\test\\lib\\site-packages\\tensorflow\\python\\ops\\math_ops.py:3066: to_int32 (from tensorflow.python.ops.math_ops) is deprecated and will be removed in a future version.\n",
      "Instructions for updating:\n",
      "Use tf.cast instead.\n",
      "Train on 10400 samples, validate on 2600 samples\n",
      "Epoch 1/25\n",
      "10400/10400 [==============================] - 8s 743us/step - loss: 0.4771 - acc: 0.8633 - val_loss: 0.3131 - val_acc: 0.8936\n",
      "Epoch 2/25\n",
      "10400/10400 [==============================] - 5s 510us/step - loss: 0.3008 - acc: 0.8944 - val_loss: 0.2991 - val_acc: 0.8936\n",
      "Epoch 3/25\n",
      "10400/10400 [==============================] - 6s 534us/step - loss: 0.2896 - acc: 0.8943 - val_loss: 0.2825 - val_acc: 0.8933\n",
      "Epoch 4/25\n",
      "10400/10400 [==============================] - 6s 590us/step - loss: 0.2718 - acc: 0.8945 - val_loss: 0.2666 - val_acc: 0.8937\n",
      "Epoch 5/25\n",
      "10400/10400 [==============================] - 7s 657us/step - loss: 0.2540 - acc: 0.8959 - val_loss: 0.2510 - val_acc: 0.8949\n",
      "Epoch 6/25\n",
      "10400/10400 [==============================] - 6s 599us/step - loss: 0.2364 - acc: 0.9005 - val_loss: 0.2291 - val_acc: 0.9050\n",
      "Epoch 7/25\n",
      "10400/10400 [==============================] - 8s 736us/step - loss: 0.2199 - acc: 0.9103 - val_loss: 0.2207 - val_acc: 0.9157\n",
      "Epoch 8/25\n",
      "10400/10400 [==============================] - 7s 645us/step - loss: 0.2073 - acc: 0.9257 - val_loss: 0.2185 - val_acc: 0.9247\n",
      "Epoch 9/25\n",
      "10400/10400 [==============================] - 7s 645us/step - loss: 0.1979 - acc: 0.9310 - val_loss: 0.1996 - val_acc: 0.9309\n",
      "Epoch 10/25\n",
      "10400/10400 [==============================] - 7s 632us/step - loss: 0.1871 - acc: 0.9351 - val_loss: 0.1947 - val_acc: 0.9311\n",
      "Epoch 11/25\n",
      "10400/10400 [==============================] - 6s 595us/step - loss: 0.1796 - acc: 0.9370 - val_loss: 0.1977 - val_acc: 0.9299\n",
      "Epoch 12/25\n",
      "10400/10400 [==============================] - 7s 633us/step - loss: 0.1728 - acc: 0.9394 - val_loss: 0.1911 - val_acc: 0.9313\n",
      "Epoch 13/25\n",
      "10400/10400 [==============================] - 6s 602us/step - loss: 0.1666 - acc: 0.9407 - val_loss: 0.1795 - val_acc: 0.9344\n",
      "Epoch 14/25\n",
      "10400/10400 [==============================] - 7s 633us/step - loss: 0.1621 - acc: 0.9420 - val_loss: 0.1819 - val_acc: 0.9334\n",
      "Epoch 15/25\n",
      "10400/10400 [==============================] - 7s 628us/step - loss: 0.1582 - acc: 0.9436 - val_loss: 0.1863 - val_acc: 0.9339\n",
      "Epoch 16/25\n",
      "10400/10400 [==============================] - 6s 605us/step - loss: 0.1523 - acc: 0.9457 - val_loss: 0.1769 - val_acc: 0.9358\n",
      "Epoch 17/25\n",
      "10400/10400 [==============================] - 7s 633us/step - loss: 0.1486 - acc: 0.9470 - val_loss: 0.1776 - val_acc: 0.9367\n",
      "Epoch 18/25\n",
      "10400/10400 [==============================] - 6s 603us/step - loss: 0.1454 - acc: 0.9484 - val_loss: 0.1788 - val_acc: 0.9373\n",
      "Epoch 19/25\n",
      "10400/10400 [==============================] - 7s 663us/step - loss: 0.1423 - acc: 0.9495 - val_loss: 0.1723 - val_acc: 0.9359\n",
      "Epoch 20/25\n",
      "10400/10400 [==============================] - 6s 602us/step - loss: 0.1380 - acc: 0.9509 - val_loss: 0.1722 - val_acc: 0.9365\n",
      "Epoch 21/25\n",
      "10400/10400 [==============================] - 7s 644us/step - loss: 0.1353 - acc: 0.9520 - val_loss: 0.1737 - val_acc: 0.9363\n",
      "Epoch 22/25\n",
      "10400/10400 [==============================] - 7s 675us/step - loss: 0.1317 - acc: 0.9537 - val_loss: 0.1700 - val_acc: 0.9391\n",
      "Epoch 23/25\n",
      "10400/10400 [==============================] - 8s 723us/step - loss: 0.1282 - acc: 0.9548 - val_loss: 0.1763 - val_acc: 0.9390\n",
      "Epoch 24/25\n",
      "10400/10400 [==============================] - 7s 681us/step - loss: 0.1250 - acc: 0.9565 - val_loss: 0.1707 - val_acc: 0.9374\n",
      "Epoch 25/25\n",
      "10400/10400 [==============================] - 7s 655us/step - loss: 0.1218 - acc: 0.9580 - val_loss: 0.1714 - val_acc: 0.9401\n"
     ]
    }
   ],
   "source": [
    "#train the model\n",
    "history = train_model(model, x_train, y_train, 25, 500, max_words, maxlen)"
   ]
  },
  {
   "cell_type": "code",
   "execution_count": 18,
   "metadata": {},
   "outputs": [],
   "source": [
    "#generate the report for the training process\n",
    "def training_report(history):\n",
    "    #get the data from the model history file \n",
    "    acc = history.history['acc']\n",
    "    val_acc = history.history['val_acc']\n",
    "    loss = history.history['loss']\n",
    "    val_loss = history.history['val_loss']\n",
    "    \n",
    "    #set our epochs\n",
    "    epochs = range(1, len(acc) + 1)\n",
    "\n",
    "    #plot the accuracy \n",
    "    plt.plot(epochs, acc, 'bo', label='Training acc')\n",
    "    plt.plot(epochs, val_acc, 'b', label='Validation acc')\n",
    "    plt.title('Training and validation accuracy')\n",
    "    plt.legend()\n",
    "\n",
    "    plt.figure()\n",
    "    \n",
    "    #plot the loss\n",
    "    plt.plot(epochs, loss, 'bo', label='Training loss')\n",
    "    plt.plot(epochs, val_loss, 'b', label='Validation loss')\n",
    "    plt.title('Training and validation loss')\n",
    "    plt.legend()\n",
    "\n",
    "    plt.show()\n",
    "\n",
    "    #display the max values we attained\n",
    "    print('Validation Accuracy: ', val_acc[np.argmax(val_acc)] * 100)\n",
    "    print('Training Accuracy: ', acc[np.argmax(acc)] * 100)"
   ]
  },
  {
   "cell_type": "code",
   "execution_count": 19,
   "metadata": {},
   "outputs": [
    {
     "data": {
      "image/png": "[encoded data removed]",
      "text/plain": [
       "<Figure size 432x288 with 1 Axes>"
      ]
     },
     "metadata": {
      "needs_background": "light"
     },
     "output_type": "display_data"
    },
    {
     "data": {
      "image/png": "[encoded data removed]",
      "text/plain": [
       "<Figure size 432x288 with 1 Axes>"
      ]
     },
     "metadata": {
      "needs_background": "light"
     },
     "output_type": "display_data"
    },
    {
     "name": "stdout",
     "output_type": "stream",
     "text": [
      "Validation Accuracy:  94.00771329036127\n",
      "Training Accuracy:  95.80290472278227\n"
     ]
    }
   ],
   "source": [
    "training_report(history)"
   ]
  },
  {
   "cell_type": "code",
   "execution_count": 20,
   "metadata": {},
   "outputs": [],
   "source": [
    "#test the model on our set aside testing data\n",
    "def test_model(model, x_test):\n",
    "    #gather the models prediction \n",
    "    \n",
    "    #the model displays its prediction as a list of all the categories \n",
    "    #with percents in each category at how confident the model is for \n",
    "    #each category. the highest percent is the category it predicts\n",
    "    preds = model.predict(x_test)\n",
    "    \n",
    "    #for ever row in the prediction list\n",
    "    #grap the max value and append that index to the y_pred\n",
    "    preds[preds>=0.5] = 1\n",
    "    preds[preds<0.5] = 0\n",
    "    \n",
    "    #convert the list to a numpy array\n",
    "    return np.asarray(preds)"
   ]
  },
  {
   "cell_type": "code",
   "execution_count": 21,
   "metadata": {},
   "outputs": [],
   "source": [
    "#test the model against our small test data and store the predictions in y_pred\n",
    "y_pred = test_model(model, x_test)"
   ]
  },
  {
   "cell_type": "code",
   "execution_count": 30,
   "metadata": {},
   "outputs": [],
   "source": [
    "#create the confusion matrix\n",
    "def test_confusion_matrix(y_pred,y_test):\n",
    "    return skm.multilabel_confusion_matrix(y_test, y_pred)"
   ]
  },
  {
   "cell_type": "code",
   "execution_count": 31,
   "metadata": {},
   "outputs": [],
   "source": [
    "#create the classification report\n",
    "def test_classification_report(y_pred,y_test):\n",
    "    #cr from index values\n",
    "    crindex = classification_report(y_test, y_pred)\n",
    "    \n",
    "    #convert index values back to examCodes\n",
    "    temp1 = []\n",
    "    temp2 = []\n",
    "    for label in y_pred:\n",
    "        temp1.append(label_dict.item(label))\n",
    "\n",
    "    for label in y_test:\n",
    "        temp2.append(label_dict.item(label))\n",
    "\n",
    "    #change the lists to numpy arrays\n",
    "    temp1 = np.asarray(temp1)\n",
    "    temp2 = np.asarray(temp2)\n",
    "    #cr from examCodes\n",
    "    crlabel =classification_report(temp2, temp1)\n",
    "    print(crlabel)\n",
    "    #return crindex and crlabel and temp1    \n",
    "    return crindex, crlabel, temp1"
   ]
  },
  {
   "cell_type": "code",
   "execution_count": 42,
   "metadata": {
    "scrolled": true
   },
   "outputs": [
    {
     "name": "stdout",
     "output_type": "stream",
     "text": [
      "88304\n",
      "      0    1\n",
      "0  1742   16\n",
      "1    71  171 \n",
      "\n",
      "\n",
      "88305\n",
      "     0     1\n",
      "0  295    93\n",
      "1   90  1522 \n",
      "\n",
      "\n",
      "88307\n",
      "      0    1\n",
      "0  1543   50\n",
      "1   122  285 \n",
      "\n",
      "\n",
      "88309\n",
      "      0   1\n",
      "0  1899  10\n",
      "1    40  51 \n",
      "\n",
      "\n",
      "88331\n",
      "      0  1\n",
      "0  1899  1\n",
      "1    92  8 \n",
      "\n",
      "\n",
      "88341\n",
      "      0   1\n",
      "0  1848  17\n",
      "1   104  31 \n",
      "\n",
      "\n",
      "88342\n",
      "      0    1\n",
      "0  1551   44\n",
      "1   179  226 \n",
      "\n",
      "\n",
      "88112\n",
      "      0  1\n",
      "0  1958  0\n",
      "1    42  0 \n",
      "\n",
      "\n",
      "88141\n",
      "      0   1\n",
      "0  1881  29\n",
      "1    51  39 \n",
      "\n",
      "\n",
      "88175\n",
      "      0   1\n",
      "0  1887  25\n",
      "1    53  35 \n",
      "\n",
      "\n",
      "              precision    recall  f1-score   support\n",
      "\n",
      "           0       0.91      0.71      0.80       242\n",
      "           1       0.94      0.94      0.94      1612\n",
      "           2       0.85      0.70      0.77       407\n",
      "           3       0.84      0.56      0.67        91\n",
      "           4       0.89      0.08      0.15       100\n",
      "           5       0.65      0.23      0.34       135\n",
      "           6       0.84      0.56      0.67       405\n",
      "           7       0.00      0.00      0.00        42\n",
      "           8       0.57      0.43      0.49        90\n",
      "           9       0.58      0.40      0.47        88\n",
      "\n",
      "   micro avg       0.89      0.74      0.81      3212\n",
      "   macro avg       0.71      0.46      0.53      3212\n",
      "weighted avg       0.87      0.74      0.78      3212\n",
      " samples avg       0.93      0.84      0.86      3212\n",
      "\n"
     ]
    }
   ],
   "source": [
    "#get confusion matrix\n",
    "matrix = test_confusion_matrix(y_pred, y_test)\n",
    "x = 0\n",
    "temp = ['88304', '88305', '88307',\n",
    "            '88309', '88331', '88341', \n",
    "            '88342', '88112', '88141', \n",
    "            '88175']\n",
    "temp = np.asarray(temp)\n",
    "for i in matrix:\n",
    "    print(temp[x])\n",
    "    dfmatrix = pd.DataFrame(i)\n",
    "    print(dfmatrix, '\\n\\n')\n",
    "    x = x+1\n",
    "\n",
    "#get classification reports and the array machineOutput as codes\n",
    "#crindex, crlabel, codeList=test_classification_report(y_pred, y_test)\n",
    "\n",
    "print(skm.classification_report(y_test, y_pred))"
   ]
  },
  {
   "cell_type": "code",
   "execution_count": null,
   "metadata": {},
   "outputs": [],
   "source": []
  }
 ],
 "metadata": {
  "kernelspec": {
   "display_name": "Python 3",
   "language": "python",
   "name": "python3"
  },
  "language_info": {
   "codemirror_mode": {
    "name": "ipython",
    "version": 3
   },
   "file_extension": ".py",
   "mimetype": "text/x-python",
   "name": "python",
   "nbconvert_exporter": "python",
   "pygments_lexer": "ipython3",
   "version": "3.7.3"
  }
 },
 "nbformat": 4,
 "nbformat_minor": 2
}
