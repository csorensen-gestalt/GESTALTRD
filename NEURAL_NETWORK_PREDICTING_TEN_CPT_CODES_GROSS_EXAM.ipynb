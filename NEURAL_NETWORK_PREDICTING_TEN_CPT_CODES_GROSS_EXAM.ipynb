{
 "cells": [
  {
   "cell_type": "code",
   "execution_count": 1,
   "metadata": {},
   "outputs": [
    {
     "name": "stderr",
     "output_type": "stream",
     "text": [
      "Using TensorFlow backend.\n"
     ]
    }
   ],
   "source": [
    "#all the imports used in the program\n",
    "\n",
    "import pandas as pd \n",
    "import pyodbc\n",
    "import numpy as np\n",
    "import matplotlib.pyplot as plt\n",
    "import nltk \n",
    "from nltk.corpus import stopwords\n",
    "from nltk.stem import WordNetLemmatizer\n",
    "import re\n",
    "from keras.preprocessing.text import Tokenizer\n",
    "from keras.preprocessing.sequence import pad_sequences\n",
    "from keras.metrics import categorical_accuracy\n",
    "from keras.models import Sequential\n",
    "from keras.layers import Embedding, Flatten, Dense, Bidirectional, LSTM\n",
    "from keras.layers import GlobalMaxPool1D, Conv1D, Dropout, GRU, Flatten, MaxPooling1D\n",
    "from keras.optimizers import Adam\n",
    "from sklearn.metrics import f1_score\n",
    "from sklearn.preprocessing import OneHotEncoder\n",
    "from sklearn.preprocessing import LabelEncoder\n",
    "from collections import defaultdict\n",
    "import sklearn.metrics as skm"
   ]
  },
  {
   "cell_type": "code",
   "execution_count": 2,
   "metadata": {},
   "outputs": [],
   "source": [
    "#Grab data from a database\n",
    "\n",
    "def getData(Server, Database, query):    \n",
    "    \n",
    "    #create a SQL connection based on the given server and database\n",
    "    sql_conn = pyodbc.connect('DRIVER={SQL Server};'\n",
    "                          'SERVER='+Server+';' \n",
    "                          'DATABASE='+Database+';' \n",
    "                          'Trusted_Connection=yes')\n",
    "    \n",
    "    #return the data from the given Query and SQL connection,\n",
    "    #here i hard coded the index so all queries must select examCode\n",
    "    #for other instances just simply change or remove depending on use\n",
    "    return pd.read_sql(query, sql_conn)"
   ]
  },
  {
   "cell_type": "code",
   "execution_count": 3,
   "metadata": {},
   "outputs": [],
   "source": [
    "#establish my server and corresponding database to pull data from\n",
    "server ='GESTALT-BT41Q'\n",
    "database = 'MClinical'\n",
    "\n",
    "#this query grabs sectionValues with their corresponding examCode and description\n",
    "#does not select examCodes if there is less than 100 section values for the corresponding examCode\n",
    "#Stores the result in a pandas DataFrame object called data\n",
    "query = \"SELECT CPTCODEKEY.CPT88304, CPTCODEKEY.CPT88305, CPTCODEKEY.CPT88307, CPTCODEKEY.CPT88309, CPTCODEKEY.CPT88331, CPTCODEKEY.CPT88341, CPTCODEKEY.CPT88342, CPTCODEKEY.CPT88112, CPTCODEKEY.CPT88141, CPTCODEKEY.CPT88175, description, ResultSection.sectionValue FROM [MClinical].[dbo].[Result] LEFT JOIN ResultSection ON Result.resultKey = ResultSection.resultKey left join mapResultRequestedProcedure ON Result.resultKey = mapResultRequestedProcedure.resultKey  left join RequestedProcedure ON mapResultRequestedProcedure.requestedProcedureKey = RequestedProcedure.requestedProcedureKey left join FillerOrder ON RequestedProcedure.fillerOrderKey = FillerOrder.fillerOrderKey left join PlacerOrder ON FillerOrder.placerOrderKey = PlacerOrder.placerOrderKey left join ExamCode ON PlacerOrder.examCodeKey = ExamCode.examCodeKey left join Patient on FillerOrder.patientKey = Patient.patientKey left join cptcodekey on patient.patientkey = cptcodekey.patient_key WHERE sectionValue <> ' ' and (ResultSection.sectionValue <>' No diagnosis; performed technical only ') and ResultSection.sectionCategory like '%gross%' and examCode not like '%:%' and description is not null and Patient.patientKey in ( select patient_key from cptcodekey ) order by patient.patientkey\"\n",
    "\n",
    "\n",
    "\n",
    "original = getData(server,database,query)\n",
    "data = original.copy()\n"
   ]
  },
  {
   "cell_type": "code",
   "execution_count": 4,
   "metadata": {},
   "outputs": [],
   "source": [
    "for i in data.sectionValue.values:\n",
    "    if(type(i) == float):\n",
    "        print(i)"
   ]
  },
  {
   "cell_type": "code",
   "execution_count": 5,
   "metadata": {},
   "outputs": [],
   "source": [
    "#removes words that have at one colon somewhere in the middle of two words\n",
    "#and words that have two colons separated by three words. \n",
    "\n",
    "def removeColon(df):\n",
    "    \n",
    "    #Word array of words that i will later remove\n",
    "    bagOfWords = []\n",
    "    \n",
    "    #a array of every word in the sectionValue on the given dataframe df\n",
    "    wordList = df.sectionValue.str.split(expand=True).stack()\n",
    "    \n",
    "    for word in wordList:\n",
    "        colonWord = re.search(r\"\\w+:\\w+:\\w+\", word)\n",
    "        if colonWord is None:\n",
    "            colonWord = re.search(r\"\\w+:\\w+\", word)\n",
    "        if colonWord is not None:\n",
    "            if colonWord.group() not in bagOfWords:\n",
    "                bagOfWords.append(colonWord.group())\n",
    "    \n",
    "    #return the updated dataframe sectionValue, only keeping words that are not contained in bagOfWords            \n",
    "    return df['sectionValue'].apply(lambda x: ' '.join([word for word in x.split() if word not in (bagOfWords)]))"
   ]
  },
  {
   "cell_type": "markdown",
   "metadata": {},
   "source": [
    "This method is more useful than it looks.\n",
    "\n",
    "You pass in a pandas DataFrame and tweak it.\n",
    "\n",
    "First, i create a empty list called bagOfWords\n",
    "\n",
    "The next line seemes confusing but bassically what I am doing here is taking every word from the sectionValue column and creating a list in which each row only contains one word. This helps with the iterative process. I store the result of this into WordList(approx 1.4 million words)\n",
    "\n",
    "Next, i iterate through every word in the wordList in a for loop.\n",
    "\n",
    "let me explain how the search process works and what words i am looking to add to my bagOfWords\n",
    "1. How does the search processWork?\n",
    "    1. I use Regex(regular expression) to do my searching for me which is on a character by character basis\n",
    "2. What kind of words am i looking for?\n",
    "    1. \\w+:\\w+ and \\w+:\\w+:\\w+\n",
    "        1. \\w searches for any character in the form [a-zA-Z0-9]\n",
    "        2. \\+ searches for the previous search condition until the end of the word. \n",
    "        3. : specifies that i want a colon \n",
    "        4. putting it all together \n",
    "            1. \\w+:\\w+ searches for a character in the form [a-zA-Z0-9] for any amount of characters in that form until it hits a colon : in which then it does the same \\w+ until the end of the word.\n",
    "            2. \\w+:\\w+:\\w+ is the same as above just has two colons i hope you get the picture..\n",
    "            \n",
    "     \n",
    "Since i am searching for two different types of words i need to search two different times for every word in wordList.\n",
    "\n",
    "I search the word to see if it matches the pattern of having three words separated by 2 colons, this returns a match object which i store in colonWord.\n",
    "\n",
    "if the word isnt found in the search it returns None, so i check if colonWord is None. If it is i search for the different type of word and store that searches result into colonWord.\n",
    "\n",
    "After that process is done i finally check to see if either of my searches came back true(not None)\n",
    "\n",
    "If they do i use colonWord.group() function to grab just the string(word) that it found.\n",
    "\n",
    "Then Check the bagOfWords to see if the word i found is already in it. \n",
    "\n",
    "If the word is already in it I move onto the next word in the wordList.\n",
    "\n",
    "if it is not, i simply  add it and move to the next word as well. \n",
    "\n",
    "Finally once i have scanned all words and created my bagOfWords that is a unique list i remove those words from the sectionValue column of the Data. \n",
    "\n",
    "what the last line in the funtion is doing is recreating my column sectionValue, but only keeping words that are NOT in bagOfWords.\n",
    "\n",
    "Once that is done i return the new column of sectionValue. "
   ]
  },
  {
   "cell_type": "code",
   "execution_count": 6,
   "metadata": {},
   "outputs": [],
   "source": [
    "#here i wanted to remove punctuation from the column sectionValue in my pandas dataFrame\n",
    "#i replace every character that matches with one of the following below with nothing.\n",
    "\n",
    "def removePunctuation(df1):\n",
    "    df1['sectionValue'] = df1['sectionValue'].str.replace(',', '')\n",
    "    df1['sectionValue'] = df1['sectionValue'].str.replace('.', '')\n",
    "    df1['sectionValue'] = df1['sectionValue'].str.replace('?', '')\n",
    "    df1['sectionValue'] = df1['sectionValue'].str.replace('/', '')\n",
    "    df1['sectionValue'] = df1['sectionValue'].str.replace('/', '')\n",
    "    df1['sectionValue'] = df1['sectionValue'].str.replace('+', '')\n",
    "    df1['sectionValue'] = df1['sectionValue'].str.replace('-', '')\n",
    "    df1['sectionValue'] = df1['sectionValue'].str.replace('=', '')\n",
    "    df1['sectionValue'] = df1['sectionValue'].str.replace('_', '')\n",
    "    df1['sectionValue'] = df1['sectionValue'].str.replace(')', '')\n",
    "    df1['sectionValue'] = df1['sectionValue'].str.replace('(', '')\n",
    "    df1['sectionValue'] = df1['sectionValue'].str.replace('*', '')\n",
    "    df1['sectionValue'] = df1['sectionValue'].str.replace('&', '')\n",
    "    df1['sectionValue'] = df1['sectionValue'].str.replace('^', '')\n",
    "    df1['sectionValue'] = df1['sectionValue'].str.replace('%', '')\n",
    "    df1['sectionValue'] = df1['sectionValue'].str.replace('$', '')\n",
    "    df1['sectionValue'] = df1['sectionValue'].str.replace('#', '')\n",
    "    df1['sectionValue'] = df1['sectionValue'].str.replace('@', '')\n",
    "    df1['sectionValue'] = df1['sectionValue'].str.replace('!', '')\n",
    "    df1['sectionValue'] = df1['sectionValue'].str.replace('>', '')\n",
    "    df1['sectionValue'] = df1['sectionValue'].str.replace('<', '')\n",
    "    df1['sectionValue'] = df1['sectionValue'].str.replace('[', '')\n",
    "    df1['sectionValue'] = df1['sectionValue'].str.replace(']', '')\n",
    "    df1['sectionValue'] = df1['sectionValue'].str.replace('{', '')\n",
    "    df1['sectionValue'] = df1['sectionValue'].str.replace('}', '')\n",
    "    df1['sectionValue'] = df1['sectionValue'].str.replace('|', '')\n",
    "    df1['sectionValue'] = df1['sectionValue'].str.replace(':', '')\n",
    "    df1['sectionValue'] = df1['sectionValue'].str.replace(';', '')\n",
    "    df1['sectionValue'] = df1['sectionValue'].str.replace('\\'', '')\n",
    "    df1['sectionValue'] = df1['sectionValue'].str.replace('\\\"', '')\n",
    "    return df1\n",
    "    "
   ]
  },
  {
   "cell_type": "code",
   "execution_count": 7,
   "metadata": {},
   "outputs": [],
   "source": [
    "def removeStopWords(df):\n",
    "    \n",
    "    #stopWords are words that have relatively no meaning to any actual data\n",
    "    #we dont want that here so lets remove them\n",
    "    stop = stopwords.words('english')\n",
    "    \n",
    "    # add custom stopWords \n",
    "    stop = addStopWords(stop)\n",
    "    \n",
    "    # add this if you want to remove words that are smaller than size two\n",
    "    # change the size to whatever you like \n",
    "    \n",
    "    #df['sectionValue'] = df['sectionValue'].apply(lambda x: ' '.join([word for word in x.split() if len(word) > 2]))\n",
    "    \n",
    "    #returning the new sectionValue to the Datafram with words that are not in the StopWords\n",
    "    return df['sectionValue'].apply(lambda x: ' '.join([word for word in x.split() if word not in (stop)]))\n"
   ]
  },
  {
   "cell_type": "code",
   "execution_count": 8,
   "metadata": {},
   "outputs": [],
   "source": [
    "#adding my own custom stopWords\n",
    "#super simple to add as you can see \n",
    "#modify as needed!\n",
    "\n",
    "def addStopWords(stop):\n",
    "    stop.append('-')\n",
    "    stop.append('a')\n",
    "    stop.append('b')\n",
    "    stop.append('c')\n",
    "    stop.append('d')\n",
    "    stop.append('e')\n",
    "    stop.append('f')\n",
    "    stop.append('g')\n",
    "    stop.append('h')\n",
    "    stop.append('i')\n",
    "    stop.append('j')\n",
    "    stop.append('k')\n",
    "    stop.append('l')\n",
    "    stop.append('m')\n",
    "    stop.append('n')\n",
    "    stop.append('o')\n",
    "    stop.append('p')\n",
    "    stop.append('q')\n",
    "    stop.append('r')\n",
    "    stop.append('s')\n",
    "    stop.append('t')\n",
    "    stop.append('u')\n",
    "    stop.append('v')\n",
    "    stop.append('w')\n",
    "    stop.append('x')\n",
    "    stop.append('y')\n",
    "    stop.append('z')\n",
    "    stop.append('no')\n",
    "    stop.append('see')\n",
    "    stop.append('two')\n",
    "    stop.append('0')\n",
    "    stop.append('1')\n",
    "    stop.append('2')\n",
    "    stop.append('3')\n",
    "    stop.append('4')\n",
    "    stop.append('5')\n",
    "    stop.append('6')\n",
    "    stop.append('7')\n",
    "    stop.append('8')\n",
    "    stop.append('9')\n",
    "    return stop"
   ]
  },
  {
   "cell_type": "code",
   "execution_count": 9,
   "metadata": {},
   "outputs": [
    {
     "name": "stderr",
     "output_type": "stream",
     "text": [
      "[nltk_data] Downloading package wordnet to\n",
      "[nltk_data]     C:\\Users\\csorensen\\AppData\\Roaming\\nltk_data...\n",
      "[nltk_data]   Package wordnet is already up-to-date!\n"
     ]
    }
   ],
   "source": [
    "#clean_text transforms words like tomatoes, tomato, tomatos, all to tomato. this is very helpful.\n",
    "\n",
    "nltk.download('wordnet')\n",
    "lemmatizer = WordNetLemmatizer()\n",
    "\n",
    "def clean_text(text):\n",
    "    text = re.sub(r'[^\\w\\s]','',text, re.UNICODE)\n",
    "    text = [lemmatizer.lemmatize(token) for token in text.split(\" \")]\n",
    "    text = [lemmatizer.lemmatize(token, \"v\") for token in text]\n",
    "    text = \" \".join(text)\n",
    "    return text"
   ]
  },
  {
   "cell_type": "code",
   "execution_count": 10,
   "metadata": {},
   "outputs": [],
   "source": [
    "#concatinate the sectionValue and description feild\n",
    "def concatExamDesc(df):\n",
    "    return  df['description'] + ' ' + df['sectionValue']"
   ]
  },
  {
   "cell_type": "code",
   "execution_count": 11,
   "metadata": {},
   "outputs": [],
   "source": [
    "def clean(df):\n",
    "    #change the case of all the words to lower case so there is no case sensitivity.\n",
    "    df['sectionValue'] = df['sectionValue'].str.lower()\n",
    "\n",
    "    #call the removeColon function to remove words with a colon or mulitple colons in the middle of the word\n",
    "    df['sectionValue'] = removeColon(df)\n",
    "\n",
    "    #call the removePuncuation code, notice how i did this after the removeColon function.\n",
    "    #it is important that we call this after the removeColon Function because this would remove colons\n",
    "    #from words we want to remove, and then the remove colon function would never find anything because there is no colons. \n",
    "    df = removePunctuation(df)\n",
    "\n",
    "    #call the removeStopWords function to remove words that have no meaning.\n",
    "    df['sectionValue'] = removeStopWords(df)\n",
    "\n",
    "    #call the clean_text to place words of simularity with the base word (ex: biopsies -> biopsy)\n",
    "    df['sectionValue'] = df.sectionValue.apply(lambda x: clean_text(x))\n",
    "\n",
    "    #add the description to the sectionValue\n",
    "    df['sectionValue'] = concatExamDesc(df)\n",
    "    return df['sectionValue']"
   ]
  },
  {
   "cell_type": "code",
   "execution_count": 12,
   "metadata": {},
   "outputs": [
    {
     "data": {
      "text/plain": [
       "99.01414799916776"
      ]
     },
     "execution_count": 12,
     "metadata": {},
     "output_type": "execute_result"
    }
   ],
   "source": [
    "data['sectionValue'] = clean(data)\n",
    "data.sectionValue.apply(lambda x: len(x.split(\" \"))).mean()"
   ]
  },
  {
   "cell_type": "code",
   "execution_count": 13,
   "metadata": {},
   "outputs": [],
   "source": [
    "def convert_text(df, maxlen, max_words):\n",
    "    #split df into two series\n",
    "    #texts being the sectionValue\n",
    "    #labels being the cooresponding examCode\n",
    "    texts = df.sectionValue\n",
    "    \n",
    "    #convert the series into numpy arrays\n",
    "    texts = texts.values\n",
    "    \n",
    "    #create a tokenizer based on the max_words\n",
    "    #fit the tokenizer to our specific texts\n",
    "    #change our texts to a vetorized integer\n",
    "    tokenizer = Tokenizer(num_words=max_words)\n",
    "    tokenizer.fit_on_texts(texts)\n",
    "    sequences = tokenizer.texts_to_sequences(texts)\n",
    "\n",
    "    word_index = tokenizer.word_index\n",
    "    print('Found %s unique tokens.' % len(word_index))\n",
    "    \n",
    "    #pad sequences ensures that all our vectors are of the same length\n",
    "    x = pad_sequences(sequences, maxlen=maxlen)\n",
    "    \n",
    "    d = defaultdict(LabelEncoder)\n",
    "    \n",
    "    fit = df[['CPT88304', 'CPT88305', 'CPT88307',\n",
    "            'CPT88309', 'CPT88331', 'CPT88341', \n",
    "            'CPT88342', 'CPT88112', 'CPT88141', \n",
    "            'CPT88175']].apply(lambda y: d[y.name].fit_transform(y))   \n",
    "    labels = fit.values\n",
    "\n",
    "    print('Shape of data tensor:', x.shape)\n",
    "    print('Shape of label tensor:', labels.shape)\n",
    "\n",
    "    #we need to randomize the indexs of our data because we had \n",
    "    #entered it all in ordely fashion. we dont want that. \n",
    "    #our model wouldnt learn correctly if it was ordered by examCode..\n",
    "    indices = np.arange(x.shape[0])\n",
    "    np.random.shuffle(indices)\n",
    "    x = x[indices]\n",
    "    labels = labels[indices]\n",
    "    \n",
    "    #return x, labels, and the last 7000 of x and labels for testing\n",
    "    return x[:13000], labels[:13000], x[-1419:], labels[-1419:]"
   ]
  },
  {
   "cell_type": "code",
   "execution_count": 14,
   "metadata": {},
   "outputs": [
    {
     "name": "stdout",
     "output_type": "stream",
     "text": [
      "Found 16999 unique tokens.\n",
      "Shape of data tensor: (14419, 150)\n",
      "Shape of label tensor: (14419, 10)\n",
      "(13000, 150)\n",
      "(13000, 10)\n",
      "(1419, 150)\n",
      "(1419, 10)\n"
     ]
    }
   ],
   "source": [
    "#define maxlen as the maximum words to take from each sectionValue\n",
    "#define max_words as the total number of unique words to tokenize\n",
    "\n",
    "maxlen = 150\n",
    "max_words = 20000\n",
    "\n",
    "#create data that can be ran through our model\n",
    "x_train, y_train, x_test, y_test = convert_text(data, maxlen, max_words)\n",
    "\n",
    "print(x_train.shape)\n",
    "print(y_train.shape)\n",
    "print(x_test.shape)\n",
    "print(y_test.shape)"
   ]
  },
  {
   "cell_type": "code",
   "execution_count": 105,
   "metadata": {},
   "outputs": [],
   "source": [
    "#create a machine learning model with the following\n",
    "def create_model(max_words,maxlen):\n",
    "    #keras default model\n",
    "    model = Sequential()\n",
    "    \n",
    "    #add an embedding layer with the input dim and input length to what we have already\n",
    "    #configured for our vectorized forms of our text\n",
    "    model.add(Embedding(input_dim = max_words, input_length=maxlen, output_dim = 50))\n",
    "    \n",
    "    #model.add(Bidirectional(LSTM(64)))\n",
    "    \n",
    "    model.add(Dropout(0.15))\n",
    "    model.add(Conv1D(maxlen, 3, padding='valid', activation='relu', strides=1))\n",
    "    #model.add(Dropout(0.5))\n",
    "    #model.add(Conv1D(maxlen, 3, padding='valid', activation='relu', strides=1))\n",
    "    model.add(GlobalMaxPool1D())\n",
    "    # create a dense output layer with the units = len(labels_dict)\n",
    "    model.add(Dense(10, activation='sigmoid'))\n",
    "    \n",
    "    #print the summary\n",
    "    model.summary()\n",
    "    \n",
    "    return model"
   ]
  },
  {
   "cell_type": "code",
   "execution_count": 133,
   "metadata": {},
   "outputs": [
    {
     "name": "stdout",
     "output_type": "stream",
     "text": [
      "_________________________________________________________________\n",
      "Layer (type)                 Output Shape              Param #   \n",
      "=================================================================\n",
      "embedding_20 (Embedding)     (None, 150, 50)           1000000   \n",
      "_________________________________________________________________\n",
      "dropout_20 (Dropout)         (None, 150, 50)           0         \n",
      "_________________________________________________________________\n",
      "conv1d_20 (Conv1D)           (None, 148, 150)          22650     \n",
      "_________________________________________________________________\n",
      "global_max_pooling1d_20 (Glo (None, 150)               0         \n",
      "_________________________________________________________________\n",
      "dense_20 (Dense)             (None, 10)                1510      \n",
      "=================================================================\n",
      "Total params: 1,024,160\n",
      "Trainable params: 1,024,160\n",
      "Non-trainable params: 0\n",
      "_________________________________________________________________\n"
     ]
    }
   ],
   "source": [
    "#create the model\n",
    "model = create_model(max_words, maxlen)"
   ]
  },
  {
   "cell_type": "code",
   "execution_count": 134,
   "metadata": {},
   "outputs": [],
   "source": [
    "#train the model\n",
    "def train_model(model, x_train, y_train, epochs, batchsize, max_words, max_len):\n",
    "    #compile the model\n",
    "    #optimizer -> rmsprop (standard)\n",
    "    #loss -> sparse categorical crossentropy (because we have a large multiclassifcation probelm)\n",
    "    #meteric -> accuracy\n",
    "    model.compile(optimizer=Adam(lr=0.00009),\n",
    "                  loss='binary_crossentropy',\n",
    "                  metrics=['acc']) \n",
    "    #save the history from the model\n",
    "    #set the paramiters\n",
    "    #fit the model \n",
    "    history = model.fit(x_train, \n",
    "                        y_train,\n",
    "                        epochs=epochs,\n",
    "                        batch_size=batchsize,\n",
    "                        validation_split=0.2)\n",
    "    return history"
   ]
  },
  {
   "cell_type": "code",
   "execution_count": 130,
   "metadata": {
    "scrolled": false
   },
   "outputs": [
    {
     "name": "stdout",
     "output_type": "stream",
     "text": [
      "Train on 10400 samples, validate on 2600 samples\n",
      "Epoch 1/50\n",
      "10400/10400 [==============================] - 17s 2ms/step - loss: 0.6561 - acc: 0.7711 - val_loss: 0.6142 - val_acc: 0.8956\n",
      "Epoch 2/50\n",
      "10400/10400 [==============================] - 14s 1ms/step - loss: 0.5686 - acc: 0.8948 - val_loss: 0.5181 - val_acc: 0.8956\n",
      "Epoch 3/50\n",
      "10400/10400 [==============================] - 15s 1ms/step - loss: 0.4650 - acc: 0.8948 - val_loss: 0.4135 - val_acc: 0.8956\n",
      "Epoch 4/50\n",
      "10400/10400 [==============================] - 16s 2ms/step - loss: 0.3709 - acc: 0.8948 - val_loss: 0.3371 - val_acc: 0.8956\n",
      "Epoch 5/50\n",
      "10400/10400 [==============================] - 15s 1ms/step - loss: 0.3172 - acc: 0.8949 - val_loss: 0.3029 - val_acc: 0.8958\n",
      "Epoch 6/50\n",
      "10400/10400 [==============================] - 15s 1ms/step - loss: 0.2947 - acc: 0.8951 - val_loss: 0.2871 - val_acc: 0.8953\n",
      "Epoch 7/50\n",
      "10400/10400 [==============================] - 16s 2ms/step - loss: 0.2823 - acc: 0.8975 - val_loss: 0.2766 - val_acc: 0.9013\n",
      "Epoch 8/50\n",
      "10400/10400 [==============================] - 15s 1ms/step - loss: 0.2727 - acc: 0.9008 - val_loss: 0.2674 - val_acc: 0.9077\n",
      "Epoch 9/50\n",
      "10400/10400 [==============================] - 17s 2ms/step - loss: 0.2643 - acc: 0.9069 - val_loss: 0.2593 - val_acc: 0.9082\n",
      "Epoch 10/50\n",
      "10400/10400 [==============================] - 15s 1ms/step - loss: 0.2564 - acc: 0.9075 - val_loss: 0.2516 - val_acc: 0.9085\n",
      "Epoch 11/50\n",
      "10400/10400 [==============================] - 15s 1ms/step - loss: 0.2486 - acc: 0.9088 - val_loss: 0.2440 - val_acc: 0.9112\n",
      "Epoch 12/50\n",
      "10400/10400 [==============================] - 15s 1ms/step - loss: 0.2409 - acc: 0.9126 - val_loss: 0.2365 - val_acc: 0.9147\n",
      "Epoch 13/50\n",
      "10400/10400 [==============================] - 15s 1ms/step - loss: 0.2333 - acc: 0.9168 - val_loss: 0.2291 - val_acc: 0.9181\n",
      "Epoch 14/50\n",
      "10400/10400 [==============================] - 14s 1ms/step - loss: 0.2258 - acc: 0.9203 - val_loss: 0.2219 - val_acc: 0.9230\n",
      "Epoch 15/50\n",
      "10400/10400 [==============================] - 15s 1ms/step - loss: 0.2187 - acc: 0.9245 - val_loss: 0.2154 - val_acc: 0.9266\n",
      "Epoch 16/50\n",
      "10400/10400 [==============================] - 16s 2ms/step - loss: 0.2121 - acc: 0.9269 - val_loss: 0.2093 - val_acc: 0.9296\n",
      "Epoch 17/50\n",
      "10400/10400 [==============================] - 15s 1ms/step - loss: 0.2057 - acc: 0.9294 - val_loss: 0.2034 - val_acc: 0.9310\n",
      "Epoch 18/50\n",
      "10400/10400 [==============================] - 16s 2ms/step - loss: 0.1998 - acc: 0.9308 - val_loss: 0.1980 - val_acc: 0.9328\n",
      "Epoch 19/50\n",
      "10400/10400 [==============================] - 15s 1ms/step - loss: 0.1941 - acc: 0.9325 - val_loss: 0.1929 - val_acc: 0.9342\n",
      "Epoch 20/50\n",
      "10400/10400 [==============================] - 16s 2ms/step - loss: 0.1888 - acc: 0.9341 - val_loss: 0.1879 - val_acc: 0.9359\n",
      "Epoch 21/50\n",
      "10400/10400 [==============================] - 16s 1ms/step - loss: 0.1834 - acc: 0.9358 - val_loss: 0.1832 - val_acc: 0.9375\n",
      "Epoch 22/50\n",
      "10400/10400 [==============================] - 16s 2ms/step - loss: 0.1784 - acc: 0.9379 - val_loss: 0.1786 - val_acc: 0.9389\n",
      "Epoch 23/50\n",
      "10400/10400 [==============================] - 15s 1ms/step - loss: 0.1736 - acc: 0.9398 - val_loss: 0.1745 - val_acc: 0.9405\n",
      "Epoch 24/50\n",
      "10400/10400 [==============================] - 15s 1ms/step - loss: 0.1693 - acc: 0.9415 - val_loss: 0.1706 - val_acc: 0.9419\n",
      "Epoch 25/50\n",
      "10400/10400 [==============================] - 16s 2ms/step - loss: 0.1653 - acc: 0.9430 - val_loss: 0.1671 - val_acc: 0.9429\n",
      "Epoch 26/50\n",
      "10400/10400 [==============================] - 14s 1ms/step - loss: 0.1615 - acc: 0.9442 - val_loss: 0.1642 - val_acc: 0.9444\n",
      "Epoch 27/50\n",
      "10400/10400 [==============================] - 15s 1ms/step - loss: 0.1583 - acc: 0.9455 - val_loss: 0.1615 - val_acc: 0.9449\n",
      "Epoch 28/50\n",
      "10400/10400 [==============================] - 16s 2ms/step - loss: 0.1550 - acc: 0.9463 - val_loss: 0.1592 - val_acc: 0.9459\n",
      "Epoch 29/50\n",
      "10400/10400 [==============================] - 15s 1ms/step - loss: 0.1522 - acc: 0.9473 - val_loss: 0.1572 - val_acc: 0.9473\n",
      "Epoch 30/50\n",
      "10400/10400 [==============================] - 16s 2ms/step - loss: 0.1496 - acc: 0.9476 - val_loss: 0.1556 - val_acc: 0.9473\n",
      "Epoch 31/50\n",
      "10400/10400 [==============================] - 16s 2ms/step - loss: 0.1473 - acc: 0.9485 - val_loss: 0.1540 - val_acc: 0.9476\n",
      "Epoch 32/50\n",
      "10400/10400 [==============================] - 15s 1ms/step - loss: 0.1449 - acc: 0.9493 - val_loss: 0.1526 - val_acc: 0.9479\n",
      "Epoch 33/50\n",
      "10400/10400 [==============================] - 16s 2ms/step - loss: 0.1425 - acc: 0.9498 - val_loss: 0.1516 - val_acc: 0.9482\n",
      "Epoch 34/50\n",
      "10400/10400 [==============================] - 15s 1ms/step - loss: 0.1406 - acc: 0.9506 - val_loss: 0.1505 - val_acc: 0.9485\n",
      "Epoch 35/50\n",
      "10400/10400 [==============================] - 15s 1ms/step - loss: 0.1384 - acc: 0.9514 - val_loss: 0.1495 - val_acc: 0.9489\n",
      "Epoch 36/50\n",
      "10400/10400 [==============================] - 16s 2ms/step - loss: 0.1363 - acc: 0.9520 - val_loss: 0.1487 - val_acc: 0.9492\n",
      "Epoch 37/50\n",
      "10400/10400 [==============================] - 15s 1ms/step - loss: 0.1343 - acc: 0.9524 - val_loss: 0.1479 - val_acc: 0.9494\n",
      "Epoch 38/50\n",
      "10400/10400 [==============================] - 15s 1ms/step - loss: 0.1322 - acc: 0.9538 - val_loss: 0.1472 - val_acc: 0.9495\n",
      "Epoch 39/50\n",
      "10400/10400 [==============================] - 15s 1ms/step - loss: 0.1300 - acc: 0.9546 - val_loss: 0.1466 - val_acc: 0.9496\n",
      "Epoch 40/50\n",
      "10400/10400 [==============================] - 14s 1ms/step - loss: 0.1278 - acc: 0.9551 - val_loss: 0.1460 - val_acc: 0.9498\n",
      "Epoch 41/50\n",
      "10400/10400 [==============================] - 15s 1ms/step - loss: 0.1258 - acc: 0.9559 - val_loss: 0.1455 - val_acc: 0.9501\n",
      "Epoch 42/50\n",
      "10400/10400 [==============================] - 15s 1ms/step - loss: 0.1236 - acc: 0.9566 - val_loss: 0.1450 - val_acc: 0.9497\n",
      "Epoch 43/50\n",
      "10400/10400 [==============================] - 17s 2ms/step - loss: 0.1214 - acc: 0.9574 - val_loss: 0.1445 - val_acc: 0.9498\n",
      "Epoch 44/50\n",
      "10400/10400 [==============================] - 15s 1ms/step - loss: 0.1193 - acc: 0.9582 - val_loss: 0.1442 - val_acc: 0.9502\n",
      "Epoch 45/50\n",
      "10400/10400 [==============================] - 15s 1ms/step - loss: 0.1171 - acc: 0.9593 - val_loss: 0.1440 - val_acc: 0.9503\n",
      "Epoch 46/50\n",
      "10400/10400 [==============================] - 16s 2ms/step - loss: 0.1147 - acc: 0.9605 - val_loss: 0.1437 - val_acc: 0.9502\n",
      "Epoch 47/50\n",
      "10400/10400 [==============================] - 15s 1ms/step - loss: 0.1124 - acc: 0.9610 - val_loss: 0.1435 - val_acc: 0.9505\n",
      "Epoch 48/50\n",
      "10400/10400 [==============================] - 15s 1ms/step - loss: 0.1099 - acc: 0.9622 - val_loss: 0.1432 - val_acc: 0.9504\n",
      "Epoch 49/50\n",
      "10400/10400 [==============================] - 15s 1ms/step - loss: 0.1079 - acc: 0.9630 - val_loss: 0.1431 - val_acc: 0.9502\n",
      "Epoch 50/50\n",
      "10400/10400 [==============================] - 15s 1ms/step - loss: 0.1056 - acc: 0.9640 - val_loss: 0.1431 - val_acc: 0.9505\n"
     ]
    }
   ],
   "source": [
    "#train the model\n",
    "history = train_model(model, x_train, y_train, 75, 500, max_words, maxlen)"
   ]
  },
  {
   "cell_type": "code",
   "execution_count": 131,
   "metadata": {
    "scrolled": true
   },
   "outputs": [
    {
     "name": "stdout",
     "output_type": "stream",
     "text": [
      "Train on 10400 samples, validate on 2600 samples\n",
      "Epoch 1/10\n",
      "10400/10400 [==============================] - 20s 2ms/step - loss: 0.1040 - acc: 0.9644 - val_loss: 0.1431 - val_acc: 0.9507\n",
      "Epoch 2/10\n",
      "10400/10400 [==============================] - 15s 1ms/step - loss: 0.1018 - acc: 0.9652 - val_loss: 0.1431 - val_acc: 0.9503\n",
      "Epoch 3/10\n",
      "10400/10400 [==============================] - 16s 1ms/step - loss: 0.1000 - acc: 0.9658 - val_loss: 0.1432 - val_acc: 0.9507\n",
      "Epoch 4/10\n",
      "10400/10400 [==============================] - 16s 2ms/step - loss: 0.0982 - acc: 0.9660 - val_loss: 0.1433 - val_acc: 0.9503\n",
      "Epoch 5/10\n",
      "10400/10400 [==============================] - 15s 1ms/step - loss: 0.0969 - acc: 0.9671 - val_loss: 0.1433 - val_acc: 0.9502\n",
      "Epoch 6/10\n",
      "10400/10400 [==============================] - 14s 1ms/step - loss: 0.0948 - acc: 0.9676 - val_loss: 0.1434 - val_acc: 0.9506\n",
      "Epoch 7/10\n",
      "10400/10400 [==============================] - 12s 1ms/step - loss: 0.0934 - acc: 0.9679 - val_loss: 0.1437 - val_acc: 0.9507\n",
      "Epoch 8/10\n",
      " 6000/10400 [================>.............] - ETA: 4s - loss: 0.0915 - acc: 0.9683"
     ]
    },
    {
     "ename": "KeyboardInterrupt",
     "evalue": "",
     "output_type": "error",
     "traceback": [
      "\u001b[1;31m---------------------------------------------------------------------------\u001b[0m",
      "\u001b[1;31mKeyboardInterrupt\u001b[0m                         Traceback (most recent call last)",
      "\u001b[1;32m<ipython-input-131-5960e5c4c390>\u001b[0m in \u001b[0;36m<module>\u001b[1;34m\u001b[0m\n\u001b[1;32m----> 1\u001b[1;33m \u001b[0mhistory1\u001b[0m \u001b[1;33m=\u001b[0m \u001b[0mtrain_model\u001b[0m\u001b[1;33m(\u001b[0m\u001b[0mmodel\u001b[0m\u001b[1;33m,\u001b[0m \u001b[0mx_train\u001b[0m\u001b[1;33m,\u001b[0m \u001b[0my_train\u001b[0m\u001b[1;33m,\u001b[0m \u001b[1;36m10\u001b[0m\u001b[1;33m,\u001b[0m \u001b[1;36m500\u001b[0m\u001b[1;33m,\u001b[0m \u001b[0mmax_words\u001b[0m\u001b[1;33m,\u001b[0m \u001b[0mmaxlen\u001b[0m\u001b[1;33m)\u001b[0m\u001b[1;33m\u001b[0m\u001b[1;33m\u001b[0m\u001b[0m\n\u001b[0m",
      "\u001b[1;32m<ipython-input-129-6d1b9d1bcb13>\u001b[0m in \u001b[0;36mtrain_model\u001b[1;34m(model, x_train, y_train, epochs, batchsize, max_words, max_len)\u001b[0m\n\u001b[0;32m     15\u001b[0m                         \u001b[0mepochs\u001b[0m\u001b[1;33m=\u001b[0m\u001b[0mepochs\u001b[0m\u001b[1;33m,\u001b[0m\u001b[1;33m\u001b[0m\u001b[1;33m\u001b[0m\u001b[0m\n\u001b[0;32m     16\u001b[0m                         \u001b[0mbatch_size\u001b[0m\u001b[1;33m=\u001b[0m\u001b[0mbatchsize\u001b[0m\u001b[1;33m,\u001b[0m\u001b[1;33m\u001b[0m\u001b[1;33m\u001b[0m\u001b[0m\n\u001b[1;32m---> 17\u001b[1;33m                         validation_split=0.2)\n\u001b[0m\u001b[0;32m     18\u001b[0m     \u001b[1;32mreturn\u001b[0m \u001b[0mhistory\u001b[0m\u001b[1;33m\u001b[0m\u001b[1;33m\u001b[0m\u001b[0m\n",
      "\u001b[1;32m~\\.conda\\envs\\test\\lib\\site-packages\\keras\\engine\\training.py\u001b[0m in \u001b[0;36mfit\u001b[1;34m(self, x, y, batch_size, epochs, verbose, callbacks, validation_split, validation_data, shuffle, class_weight, sample_weight, initial_epoch, steps_per_epoch, validation_steps, **kwargs)\u001b[0m\n\u001b[0;32m   1037\u001b[0m                                         \u001b[0minitial_epoch\u001b[0m\u001b[1;33m=\u001b[0m\u001b[0minitial_epoch\u001b[0m\u001b[1;33m,\u001b[0m\u001b[1;33m\u001b[0m\u001b[1;33m\u001b[0m\u001b[0m\n\u001b[0;32m   1038\u001b[0m                                         \u001b[0msteps_per_epoch\u001b[0m\u001b[1;33m=\u001b[0m\u001b[0msteps_per_epoch\u001b[0m\u001b[1;33m,\u001b[0m\u001b[1;33m\u001b[0m\u001b[1;33m\u001b[0m\u001b[0m\n\u001b[1;32m-> 1039\u001b[1;33m                                         validation_steps=validation_steps)\n\u001b[0m\u001b[0;32m   1040\u001b[0m \u001b[1;33m\u001b[0m\u001b[0m\n\u001b[0;32m   1041\u001b[0m     def evaluate(self, x=None, y=None,\n",
      "\u001b[1;32m~\\.conda\\envs\\test\\lib\\site-packages\\keras\\engine\\training_arrays.py\u001b[0m in \u001b[0;36mfit_loop\u001b[1;34m(model, f, ins, out_labels, batch_size, epochs, verbose, callbacks, val_f, val_ins, shuffle, callback_metrics, initial_epoch, steps_per_epoch, validation_steps)\u001b[0m\n\u001b[0;32m    197\u001b[0m                     \u001b[0mins_batch\u001b[0m\u001b[1;33m[\u001b[0m\u001b[0mi\u001b[0m\u001b[1;33m]\u001b[0m \u001b[1;33m=\u001b[0m \u001b[0mins_batch\u001b[0m\u001b[1;33m[\u001b[0m\u001b[0mi\u001b[0m\u001b[1;33m]\u001b[0m\u001b[1;33m.\u001b[0m\u001b[0mtoarray\u001b[0m\u001b[1;33m(\u001b[0m\u001b[1;33m)\u001b[0m\u001b[1;33m\u001b[0m\u001b[1;33m\u001b[0m\u001b[0m\n\u001b[0;32m    198\u001b[0m \u001b[1;33m\u001b[0m\u001b[0m\n\u001b[1;32m--> 199\u001b[1;33m                 \u001b[0mouts\u001b[0m \u001b[1;33m=\u001b[0m \u001b[0mf\u001b[0m\u001b[1;33m(\u001b[0m\u001b[0mins_batch\u001b[0m\u001b[1;33m)\u001b[0m\u001b[1;33m\u001b[0m\u001b[1;33m\u001b[0m\u001b[0m\n\u001b[0m\u001b[0;32m    200\u001b[0m                 \u001b[0mouts\u001b[0m \u001b[1;33m=\u001b[0m \u001b[0mto_list\u001b[0m\u001b[1;33m(\u001b[0m\u001b[0mouts\u001b[0m\u001b[1;33m)\u001b[0m\u001b[1;33m\u001b[0m\u001b[1;33m\u001b[0m\u001b[0m\n\u001b[0;32m    201\u001b[0m                 \u001b[1;32mfor\u001b[0m \u001b[0ml\u001b[0m\u001b[1;33m,\u001b[0m \u001b[0mo\u001b[0m \u001b[1;32min\u001b[0m \u001b[0mzip\u001b[0m\u001b[1;33m(\u001b[0m\u001b[0mout_labels\u001b[0m\u001b[1;33m,\u001b[0m \u001b[0mouts\u001b[0m\u001b[1;33m)\u001b[0m\u001b[1;33m:\u001b[0m\u001b[1;33m\u001b[0m\u001b[1;33m\u001b[0m\u001b[0m\n",
      "\u001b[1;32m~\\.conda\\envs\\test\\lib\\site-packages\\keras\\backend\\tensorflow_backend.py\u001b[0m in \u001b[0;36m__call__\u001b[1;34m(self, inputs)\u001b[0m\n\u001b[0;32m   2713\u001b[0m                 \u001b[1;32mreturn\u001b[0m \u001b[0mself\u001b[0m\u001b[1;33m.\u001b[0m\u001b[0m_legacy_call\u001b[0m\u001b[1;33m(\u001b[0m\u001b[0minputs\u001b[0m\u001b[1;33m)\u001b[0m\u001b[1;33m\u001b[0m\u001b[1;33m\u001b[0m\u001b[0m\n\u001b[0;32m   2714\u001b[0m \u001b[1;33m\u001b[0m\u001b[0m\n\u001b[1;32m-> 2715\u001b[1;33m             \u001b[1;32mreturn\u001b[0m \u001b[0mself\u001b[0m\u001b[1;33m.\u001b[0m\u001b[0m_call\u001b[0m\u001b[1;33m(\u001b[0m\u001b[0minputs\u001b[0m\u001b[1;33m)\u001b[0m\u001b[1;33m\u001b[0m\u001b[1;33m\u001b[0m\u001b[0m\n\u001b[0m\u001b[0;32m   2716\u001b[0m         \u001b[1;32melse\u001b[0m\u001b[1;33m:\u001b[0m\u001b[1;33m\u001b[0m\u001b[1;33m\u001b[0m\u001b[0m\n\u001b[0;32m   2717\u001b[0m             \u001b[1;32mif\u001b[0m \u001b[0mpy_any\u001b[0m\u001b[1;33m(\u001b[0m\u001b[0mis_tensor\u001b[0m\u001b[1;33m(\u001b[0m\u001b[0mx\u001b[0m\u001b[1;33m)\u001b[0m \u001b[1;32mfor\u001b[0m \u001b[0mx\u001b[0m \u001b[1;32min\u001b[0m \u001b[0minputs\u001b[0m\u001b[1;33m)\u001b[0m\u001b[1;33m:\u001b[0m\u001b[1;33m\u001b[0m\u001b[1;33m\u001b[0m\u001b[0m\n",
      "\u001b[1;32m~\\.conda\\envs\\test\\lib\\site-packages\\keras\\backend\\tensorflow_backend.py\u001b[0m in \u001b[0;36m_call\u001b[1;34m(self, inputs)\u001b[0m\n\u001b[0;32m   2673\u001b[0m             \u001b[0mfetched\u001b[0m \u001b[1;33m=\u001b[0m \u001b[0mself\u001b[0m\u001b[1;33m.\u001b[0m\u001b[0m_callable_fn\u001b[0m\u001b[1;33m(\u001b[0m\u001b[1;33m*\u001b[0m\u001b[0marray_vals\u001b[0m\u001b[1;33m,\u001b[0m \u001b[0mrun_metadata\u001b[0m\u001b[1;33m=\u001b[0m\u001b[0mself\u001b[0m\u001b[1;33m.\u001b[0m\u001b[0mrun_metadata\u001b[0m\u001b[1;33m)\u001b[0m\u001b[1;33m\u001b[0m\u001b[1;33m\u001b[0m\u001b[0m\n\u001b[0;32m   2674\u001b[0m         \u001b[1;32melse\u001b[0m\u001b[1;33m:\u001b[0m\u001b[1;33m\u001b[0m\u001b[1;33m\u001b[0m\u001b[0m\n\u001b[1;32m-> 2675\u001b[1;33m             \u001b[0mfetched\u001b[0m \u001b[1;33m=\u001b[0m \u001b[0mself\u001b[0m\u001b[1;33m.\u001b[0m\u001b[0m_callable_fn\u001b[0m\u001b[1;33m(\u001b[0m\u001b[1;33m*\u001b[0m\u001b[0marray_vals\u001b[0m\u001b[1;33m)\u001b[0m\u001b[1;33m\u001b[0m\u001b[1;33m\u001b[0m\u001b[0m\n\u001b[0m\u001b[0;32m   2676\u001b[0m         \u001b[1;32mreturn\u001b[0m \u001b[0mfetched\u001b[0m\u001b[1;33m[\u001b[0m\u001b[1;33m:\u001b[0m\u001b[0mlen\u001b[0m\u001b[1;33m(\u001b[0m\u001b[0mself\u001b[0m\u001b[1;33m.\u001b[0m\u001b[0moutputs\u001b[0m\u001b[1;33m)\u001b[0m\u001b[1;33m]\u001b[0m\u001b[1;33m\u001b[0m\u001b[1;33m\u001b[0m\u001b[0m\n\u001b[0;32m   2677\u001b[0m \u001b[1;33m\u001b[0m\u001b[0m\n",
      "\u001b[1;32m~\\.conda\\envs\\test\\lib\\site-packages\\tensorflow\\python\\client\\session.py\u001b[0m in \u001b[0;36m__call__\u001b[1;34m(self, *args, **kwargs)\u001b[0m\n\u001b[0;32m   1437\u001b[0m           ret = tf_session.TF_SessionRunCallable(\n\u001b[0;32m   1438\u001b[0m               \u001b[0mself\u001b[0m\u001b[1;33m.\u001b[0m\u001b[0m_session\u001b[0m\u001b[1;33m.\u001b[0m\u001b[0m_session\u001b[0m\u001b[1;33m,\u001b[0m \u001b[0mself\u001b[0m\u001b[1;33m.\u001b[0m\u001b[0m_handle\u001b[0m\u001b[1;33m,\u001b[0m \u001b[0margs\u001b[0m\u001b[1;33m,\u001b[0m \u001b[0mstatus\u001b[0m\u001b[1;33m,\u001b[0m\u001b[1;33m\u001b[0m\u001b[1;33m\u001b[0m\u001b[0m\n\u001b[1;32m-> 1439\u001b[1;33m               run_metadata_ptr)\n\u001b[0m\u001b[0;32m   1440\u001b[0m         \u001b[1;32mif\u001b[0m \u001b[0mrun_metadata\u001b[0m\u001b[1;33m:\u001b[0m\u001b[1;33m\u001b[0m\u001b[1;33m\u001b[0m\u001b[0m\n\u001b[0;32m   1441\u001b[0m           \u001b[0mproto_data\u001b[0m \u001b[1;33m=\u001b[0m \u001b[0mtf_session\u001b[0m\u001b[1;33m.\u001b[0m\u001b[0mTF_GetBuffer\u001b[0m\u001b[1;33m(\u001b[0m\u001b[0mrun_metadata_ptr\u001b[0m\u001b[1;33m)\u001b[0m\u001b[1;33m\u001b[0m\u001b[1;33m\u001b[0m\u001b[0m\n",
      "\u001b[1;31mKeyboardInterrupt\u001b[0m: "
     ]
    }
   ],
   "source": [
    "history1 = train_model(model, x_train, y_train, 10, 500, max_words, maxlen)"
   ]
  },
  {
   "cell_type": "code",
   "execution_count": 84,
   "metadata": {},
   "outputs": [],
   "source": [
    "#generate the report for the training process\n",
    "def training_report(history):\n",
    "    #get the data from the model history file \n",
    "    acc = history.history['acc']\n",
    "    val_acc = history.history['val_acc']\n",
    "    loss = history.history['loss']\n",
    "    val_loss = history.history['val_loss']\n",
    "    \n",
    "    #set our epochs\n",
    "    epochs = range(1, len(acc) + 1)\n",
    "\n",
    "    #plot the accuracy \n",
    "    plt.plot(epochs, acc, 'bo', label='Training acc')\n",
    "    plt.plot(epochs, val_acc, 'b', label='Validation acc')\n",
    "    plt.title('Training and validation accuracy')\n",
    "    plt.legend()\n",
    "\n",
    "    plt.figure()\n",
    "    \n",
    "    #plot the loss\n",
    "    plt.plot(epochs, loss, 'bo', label='Training loss')\n",
    "    plt.plot(epochs, val_loss, 'b', label='Validation loss')\n",
    "    plt.title('Training and validation loss')\n",
    "    plt.legend()\n",
    "\n",
    "    plt.show()\n",
    "\n",
    "    #display the max values we attained\n",
    "    print('Validation Accuracy: ', val_acc[np.argmax(val_acc)] * 100)\n",
    "    print('Training Accuracy: ', acc[np.argmax(acc)] * 100)"
   ]
  },
  {
   "cell_type": "code",
   "execution_count": 132,
   "metadata": {},
   "outputs": [
    {
     "data": {
      "image/png": "[encoded data removed]",
      "text/plain": [
       "<Figure size 432x288 with 1 Axes>"
      ]
     },
     "metadata": {
      "needs_background": "light"
     },
     "output_type": "display_data"
    },
    {
     "data": {
      "image/png": "[encoded data removed]",
      "text/plain": [
       "<Figure size 432x288 with 1 Axes>"
      ]
     },
     "metadata": {
      "needs_background": "light"
     },
     "output_type": "display_data"
    },
    {
     "name": "stdout",
     "output_type": "stream",
     "text": [
      "Validation Accuracy:  95.05386581787695\n",
      "Training Accuracy:  96.40097939051114\n"
     ]
    }
   ],
   "source": [
    "training_report(history)"
   ]
  },
  {
   "cell_type": "code",
   "execution_count": 65,
   "metadata": {},
   "outputs": [],
   "source": [
    "#test the model on our set aside testing data\n",
    "def test_model(model, x_test):\n",
    "    #gather the models prediction \n",
    "    \n",
    "    #the model displays its prediction as a list of all the cpt codes \n",
    "    #with percents in each category at how confident the model is for \n",
    "    #each cptCode. \n",
    "    \n",
    "    #since we used a binary classifier\n",
    "    #anything above .5 will  be considered true\n",
    "    #and anything below .5 will be considered false\n",
    "    preds = model.predict(x_test)\n",
    "    \n",
    "    #for ever row in the prediction list\n",
    "    #change every column value for the specific row\n",
    "    #where the percent is above or equal to .5 to 1 \n",
    "    #and below .5 to 0\n",
    "    preds[preds>=0.5] = 1\n",
    "    preds[preds<0.5] = 0\n",
    "    \n",
    "    #convert the list to a numpy array\n",
    "    return np.asarray(preds)"
   ]
  },
  {
   "cell_type": "code",
   "execution_count": 86,
   "metadata": {},
   "outputs": [],
   "source": [
    "#test the model against our test data and store the predictions in y_pred\n",
    "y_pred = test_model(model, x_test)"
   ]
  },
  {
   "cell_type": "code",
   "execution_count": 67,
   "metadata": {},
   "outputs": [],
   "source": [
    "#create the confusion matrix\n",
    "def test_confusion_matrix(y_pred,y_test):\n",
    "    matrix = skm.multilabel_confusion_matrix(y_test, y_pred)\n",
    "    \n",
    "    #create a label_dict\n",
    "    temp = ['88304', '88305', '88307',\n",
    "                '88309', '88331', '88341', \n",
    "                '88342', '88112', '88141', \n",
    "                '88175']\n",
    "    label_dict = np.asarray(temp)\n",
    "\n",
    "\n",
    "    #print the confusion matrix \n",
    "    #rows are the models predictions\n",
    "    #columns is the test\n",
    "\n",
    "    #since the matrix is of shape 10 x 2 x 2 \n",
    "    #we will go through each 2 x 2 matrix to display\n",
    "    #each cpt codes individual confusion matrix\n",
    "\n",
    "    x = 0\n",
    "    for i in matrix:\n",
    "        #convert matrix to a pandas df to convert\n",
    "        #index and columns to cpt codes\n",
    "        print(x)\n",
    "        dfmatrix = pd.DataFrame(i, columns=[0,label_dict[x]], index=[0,label_dict[x]])\n",
    "        print(dfmatrix, '\\n\\n')\n",
    "        x = x+1\n",
    "\n",
    "    "
   ]
  },
  {
   "cell_type": "code",
   "execution_count": 68,
   "metadata": {},
   "outputs": [],
   "source": [
    "#create the classification report\n",
    "def test_classification_report(y_pred,y_test):\n",
    "    #cr from index values\n",
    "    print(skm.classification_report(y_test, y_pred))"
   ]
  },
  {
   "cell_type": "code",
   "execution_count": 87,
   "metadata": {
    "scrolled": true
   },
   "outputs": [
    {
     "name": "stdout",
     "output_type": "stream",
     "text": [
      "0\n",
      "          0  88304\n",
      "0      1211      9\n",
      "88304    58    141 \n",
      "\n",
      "\n",
      "1\n",
      "         0  88305\n",
      "0      221     95\n",
      "88305   74   1029 \n",
      "\n",
      "\n",
      "2\n",
      "          0  88307\n",
      "0      1031     57\n",
      "88307    82    249 \n",
      "\n",
      "\n",
      "3\n",
      "          0  88309\n",
      "0      1346      7\n",
      "88309    39     27 \n",
      "\n",
      "\n",
      "4\n",
      "          0  88331\n",
      "0      1343      1\n",
      "88331    16     59 \n",
      "\n",
      "\n",
      "5\n",
      "          0  88341\n",
      "0      1277     24\n",
      "88341    72     46 \n",
      "\n",
      "\n",
      "6\n",
      "          0  88342\n",
      "0      1078     35\n",
      "88342    86    220 \n",
      "\n",
      "\n",
      "7\n",
      "          0  88112\n",
      "0      1376      0\n",
      "88112    43      0 \n",
      "\n",
      "\n",
      "8\n",
      "          0  88141\n",
      "0      1319     29\n",
      "88141    47     24 \n",
      "\n",
      "\n",
      "9\n",
      "          0  88175\n",
      "0      1321     29\n",
      "88175    44     25 \n",
      "\n",
      "\n"
     ]
    }
   ],
   "source": [
    "test_confusion_matrix(y_pred,y_test)"
   ]
  },
  {
   "cell_type": "code",
   "execution_count": 88,
   "metadata": {},
   "outputs": [
    {
     "name": "stdout",
     "output_type": "stream",
     "text": [
      "              precision    recall  f1-score   support\n",
      "\n",
      "           0       0.94      0.71      0.81       199\n",
      "           1       0.92      0.93      0.92      1103\n",
      "           2       0.81      0.75      0.78       331\n",
      "           3       0.79      0.41      0.54        66\n",
      "           4       0.98      0.79      0.87        75\n",
      "           5       0.66      0.39      0.49       118\n",
      "           6       0.86      0.72      0.78       306\n",
      "           7       0.00      0.00      0.00        43\n",
      "           8       0.45      0.34      0.39        71\n",
      "           9       0.46      0.36      0.41        69\n",
      "\n",
      "   micro avg       0.86      0.76      0.81      2381\n",
      "   macro avg       0.69      0.54      0.60      2381\n",
      "weighted avg       0.84      0.76      0.80      2381\n",
      " samples avg       0.91      0.85      0.85      2381\n",
      "\n"
     ]
    }
   ],
   "source": [
    "#display the classification report on the predictions\n",
    "test_classification_report(y_pred, y_test)"
   ]
  },
  {
   "cell_type": "code",
   "execution_count": 89,
   "metadata": {},
   "outputs": [
    {
     "data": {
      "text/plain": [
       "0.9403100775193799"
      ]
     },
     "execution_count": 89,
     "metadata": {},
     "output_type": "execute_result"
    }
   ],
   "source": [
    "1 -skm.hamming_loss(y_test,y_pred)"
   ]
  },
  {
   "cell_type": "code",
   "execution_count": null,
   "metadata": {},
   "outputs": [],
   "source": []
  }
 ],
 "metadata": {
  "kernelspec": {
   "display_name": "Python 3",
   "language": "python",
   "name": "python3"
  },
  "language_info": {
   "codemirror_mode": {
    "name": "ipython",
    "version": 3
   },
   "file_extension": ".py",
   "mimetype": "text/x-python",
   "name": "python",
   "nbconvert_exporter": "python",
   "pygments_lexer": "ipython3",
   "version": "3.7.3"
  }
 },
 "nbformat": 4,
 "nbformat_minor": 2
}
